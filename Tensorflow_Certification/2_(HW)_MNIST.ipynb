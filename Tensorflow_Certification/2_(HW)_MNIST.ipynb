{
  "nbformat": 4,
  "nbformat_minor": 0,
  "metadata": {
    "accelerator": "GPU",
    "colab": {
      "provenance": [],
      "toc_visible": true,
      "include_colab_link": true
    },
    "kernelspec": {
      "display_name": "Python 3",
      "language": "python",
      "name": "python3"
    },
    "language_info": {
      "codemirror_mode": {
        "name": "ipython",
        "version": 3
      },
      "file_extension": ".py",
      "mimetype": "text/x-python",
      "name": "python",
      "nbconvert_exporter": "python",
      "pygments_lexer": "ipython3",
      "version": "3.8.5"
    }
  },
  "cells": [
    {
      "cell_type": "markdown",
      "metadata": {
        "id": "view-in-github",
        "colab_type": "text"
      },
      "source": [
        "<a href=\"https://colab.research.google.com/github/Judy-Choi/Tensorflow_Certificate/blob/main/2_(HW)_MNIST.ipynb\" target=\"_parent\"><img src=\"https://colab.research.google.com/assets/colab-badge.svg\" alt=\"Open In Colab\"/></a>"
      ]
    },
    {
      "cell_type": "markdown",
      "source": [
        "# Goal Metric:\n",
        "- val_loss : 0.07126\n",
        "- val_acc : 0.9804"
      ],
      "metadata": {
        "id": "cT2KTBOemdCx"
      }
    },
    {
      "cell_type": "code",
      "metadata": {
        "id": "0h-BD6SIl_ll"
      },
      "source": [
        "import numpy as np\n",
        "import matplotlib.pyplot as plt\n",
        "import tensorflow as tf\n",
        "\n",
        "from tensorflow.keras.layers import Dense, Flatten, Dropout, BatchNormalization\n",
        "from tensorflow.keras.models import Sequential\n",
        "from tensorflow.keras.callbacks import ModelCheckpoint, EarlyStopping"
      ],
      "execution_count": null,
      "outputs": []
    },
    {
      "cell_type": "markdown",
      "metadata": {
        "id": "GCQOwJZwl_lO"
      },
      "source": [
        "## 1. dataset 준비하기 (Train / Test) "
      ]
    },
    {
      "cell_type": "markdown",
      "metadata": {
        "id": "ligkcC2zl_lv"
      },
      "source": [
        "## Load dataset"
      ]
    },
    {
      "cell_type": "markdown",
      "metadata": {
        "id": "Q_OTbSoC-j75"
      },
      "source": []
    },
    {
      "cell_type": "code",
      "metadata": {
        "id": "8qCvWPuwl_mA"
      },
      "source": [
        "mnist = tf.keras.datasets.mnist"
      ],
      "execution_count": null,
      "outputs": []
    },
    {
      "cell_type": "markdown",
      "metadata": {
        "id": "xyTyqtyVx420"
      },
      "source": [
        "## 2. data preprocessing"
      ]
    },
    {
      "cell_type": "code",
      "metadata": {
        "id": "OnjpmbL2l_mL",
        "colab": {
          "base_uri": "https://localhost:8080/"
        },
        "outputId": "ab5ed61c-5213-4397-9aa8-d51fd0d0dd74"
      },
      "source": [
        "(x_train, y_train), (x_test, y_test) = mnist.load_data()"
      ],
      "execution_count": null,
      "outputs": [
        {
          "output_type": "stream",
          "name": "stdout",
          "text": [
            "Downloading data from https://storage.googleapis.com/tensorflow/tf-keras-datasets/mnist.npz\n",
            "11490434/11490434 [==============================] - 2s 0us/step\n"
          ]
        }
      ]
    },
    {
      "cell_type": "code",
      "metadata": {
        "id": "EUhVenHcl_mT",
        "colab": {
          "base_uri": "https://localhost:8080/"
        },
        "outputId": "092766b4-4ece-4b02-d10f-1ac6b014f5a1"
      },
      "source": [
        "x_train.shape, y_train.shape"
      ],
      "execution_count": null,
      "outputs": [
        {
          "output_type": "execute_result",
          "data": {
            "text/plain": [
              "((60000, 28, 28), (60000,))"
            ]
          },
          "metadata": {},
          "execution_count": 4
        }
      ]
    },
    {
      "cell_type": "markdown",
      "metadata": {
        "id": "429-Q3_Cl_mh"
      },
      "source": [
        "## 3. 샘플 데이터 Visualization"
      ]
    },
    {
      "cell_type": "code",
      "metadata": {
        "colab": {
          "base_uri": "https://localhost:8080/"
        },
        "id": "G3wYZrRz5YhI",
        "outputId": "ec1e6ba0-13e3-472a-88e9-a8ad2e4ff701"
      },
      "source": [
        "x_test.shape, y_test.shape"
      ],
      "execution_count": null,
      "outputs": [
        {
          "output_type": "execute_result",
          "data": {
            "text/plain": [
              "((10000, 28, 28), (10000,))"
            ]
          },
          "metadata": {},
          "execution_count": 5
        }
      ]
    },
    {
      "cell_type": "code",
      "metadata": {
        "id": "RQF1Renwl_mj",
        "colab": {
          "base_uri": "https://localhost:8080/",
          "height": 477
        },
        "outputId": "d8c5fd8c-f092-4a0c-fff3-ffcc6b21fdb1"
      },
      "source": [
        "# 시각화\n",
        "fig, axes = plt.subplots(2, 5)\n",
        "fig.set_size_inches(10, 5)\n",
        "\n",
        "for i in range(10):\n",
        "    axes[i//5, i%5].imshow(x_train[i], cmap='gray')\n",
        "    axes[i//5, i%5].set_title(str(y_train[i]), fontsize=15)\n",
        "    plt.setp( axes[i//5, i%5].get_xticklabels(), visible=False)\n",
        "    plt.setp( axes[i//5, i%5].get_yticklabels(), visible=False)\n",
        "\n",
        "plt.tight_layout()\n",
        "plt.show()"
      ],
      "execution_count": null,
      "outputs": [
        {
          "output_type": "display_data",
          "data": {
            "text/plain": [
              "<Figure size 1000x500 with 10 Axes>"
            ],
            "image/png": "[encoded data removed]"
          },
          "metadata": {}
        }
      ]
    },
    {
      "cell_type": "code",
      "metadata": {
        "id": "MfxnANXpDVsJ"
      },
      "source": [
        "x_train = x_train/255.0\n",
        "x_test = x_test/255.0"
      ],
      "execution_count": null,
      "outputs": []
    },
    {
      "cell_type": "markdown",
      "metadata": {
        "id": "rXhq8pcvyA5q"
      },
      "source": [
        "## 4. 모델 설계하기"
      ]
    },
    {
      "cell_type": "code",
      "metadata": {
        "id": "YpAs2o6rl_qA"
      },
      "source": [
        "model = Sequential([\n",
        "    Flatten(),\n",
        "    Dense(1024, activation='relu'),\n",
        "    Dropout(0.5),\n",
        "    Dense(256, activation='relu'),\n",
        "    Dropout(0.5),\n",
        "    Dense(256, activation='relu'),\n",
        "    BatchNormalization(),\n",
        "    Dense(64, activation='relu'),\n",
        "    BatchNormalization(),\n",
        "    Dense(10, activation='softmax')\n",
        "])"
      ],
      "execution_count": null,
      "outputs": []
    },
    {
      "cell_type": "markdown",
      "metadata": {
        "id": "3x9LFz77l_qP"
      },
      "source": [
        "### Model optimizer, loss"
      ]
    },
    {
      "cell_type": "code",
      "metadata": {
        "id": "BgklhgwHl_qQ"
      },
      "source": [
        "model.compile(optimizer='adam', loss='sparse_categorical_crossentropy', metrics=['acc'])"
      ],
      "execution_count": null,
      "outputs": []
    },
    {
      "cell_type": "code",
      "metadata": {
        "id": "YXINmqHbl_qZ"
      },
      "source": [
        "checkpoint_path = \"my_checkpoint.ckpt\"\n",
        "checkpoint = ModelCheckpoint(filepath=checkpoint_path, \n",
        "                             save_weights_only=True, \n",
        "                             save_best_only=True, \n",
        "                             monitor='val_loss', \n",
        "                             verbose=1)\n",
        "\n",
        "early_stopping = EarlyStopping(monitor='val_loss', patience=10)"
      ],
      "execution_count": null,
      "outputs": []
    },
    {
      "cell_type": "markdown",
      "metadata": {
        "id": "WSmLZP7Al_qh"
      },
      "source": [
        "## 5. 모델 학습하기"
      ]
    },
    {
      "cell_type": "code",
      "metadata": {
        "id": "89ov-alhl_qj",
        "colab": {
          "base_uri": "https://localhost:8080/"
        },
        "outputId": "59612f8d-5fcb-4851-de34-2214d29ada56"
      },
      "source": [
        "history = model.fit(x_train, y_train,\n",
        "                    validation_data=(x_test, y_test),\n",
        "                    epochs=100,\n",
        "                    callbacks=[checkpoint, early_stopping],\n",
        "                   )"
      ],
      "execution_count": null,
      "outputs": [
        {
          "output_type": "stream",
          "name": "stdout",
          "text": [
            "Epoch 1/100\n",
            "1872/1875 [============================>.] - ETA: 0s - loss: 0.0507 - acc: 0.9842\n",
            "Epoch 1: val_loss did not improve from 0.05532\n",
            "1875/1875 [==============================] - 8s 4ms/step - loss: 0.0508 - acc: 0.9842 - val_loss: 0.0629 - val_acc: 0.9848\n",
            "Epoch 2/100\n",
            "1865/1875 [============================>.] - ETA: 0s - loss: 0.0503 - acc: 0.9852\n",
            "Epoch 2: val_loss improved from 0.05532 to 0.05438, saving model to my_checkpoint.ckpt\n",
            "1875/1875 [==============================] - 8s 5ms/step - loss: 0.0502 - acc: 0.9852 - val_loss: 0.0544 - val_acc: 0.9860\n",
            "Epoch 3/100\n",
            "1864/1875 [============================>.] - ETA: 0s - loss: 0.0459 - acc: 0.9855\n",
            "Epoch 3: val_loss did not improve from 0.05438\n",
            "1875/1875 [==============================] - 8s 4ms/step - loss: 0.0460 - acc: 0.9855 - val_loss: 0.0620 - val_acc: 0.9836\n",
            "Epoch 4/100\n",
            "1875/1875 [==============================] - ETA: 0s - loss: 0.0439 - acc: 0.9871\n",
            "Epoch 4: val_loss did not improve from 0.05438\n",
            "1875/1875 [==============================] - 8s 4ms/step - loss: 0.0439 - acc: 0.9871 - val_loss: 0.0624 - val_acc: 0.9837\n",
            "Epoch 5/100\n",
            "1865/1875 [============================>.] - ETA: 0s - loss: 0.0429 - acc: 0.9868\n",
            "Epoch 5: val_loss improved from 0.05438 to 0.05333, saving model to my_checkpoint.ckpt\n",
            "1875/1875 [==============================] - 8s 4ms/step - loss: 0.0428 - acc: 0.9869 - val_loss: 0.0533 - val_acc: 0.9860\n",
            "Epoch 6/100\n",
            "1871/1875 [============================>.] - ETA: 0s - loss: 0.0382 - acc: 0.9884\n",
            "Epoch 6: val_loss did not improve from 0.05333\n",
            "1875/1875 [==============================] - 9s 5ms/step - loss: 0.0383 - acc: 0.9883 - val_loss: 0.0553 - val_acc: 0.9851\n",
            "Epoch 7/100\n",
            "1869/1875 [============================>.] - ETA: 0s - loss: 0.0374 - acc: 0.9886\n",
            "Epoch 7: val_loss did not improve from 0.05333\n",
            "1875/1875 [==============================] - 8s 4ms/step - loss: 0.0373 - acc: 0.9887 - val_loss: 0.0584 - val_acc: 0.9841\n",
            "Epoch 8/100\n",
            "1873/1875 [============================>.] - ETA: 0s - loss: 0.0374 - acc: 0.9882\n",
            "Epoch 8: val_loss did not improve from 0.05333\n",
            "1875/1875 [==============================] - 10s 5ms/step - loss: 0.0374 - acc: 0.9882 - val_loss: 0.0558 - val_acc: 0.9855\n",
            "Epoch 9/100\n",
            "1865/1875 [============================>.] - ETA: 0s - loss: 0.0356 - acc: 0.9889\n",
            "Epoch 9: val_loss did not improve from 0.05333\n",
            "1875/1875 [==============================] - 8s 5ms/step - loss: 0.0356 - acc: 0.9889 - val_loss: 0.0582 - val_acc: 0.9843\n",
            "Epoch 10/100\n",
            "1862/1875 [============================>.] - ETA: 0s - loss: 0.0335 - acc: 0.9895\n",
            "Epoch 10: val_loss did not improve from 0.05333\n",
            "1875/1875 [==============================] - 8s 4ms/step - loss: 0.0336 - acc: 0.9894 - val_loss: 0.0566 - val_acc: 0.9854\n",
            "Epoch 11/100\n",
            "1863/1875 [============================>.] - ETA: 0s - loss: 0.0326 - acc: 0.9897\n",
            "Epoch 11: val_loss did not improve from 0.05333\n",
            "1875/1875 [==============================] - 8s 4ms/step - loss: 0.0327 - acc: 0.9897 - val_loss: 0.0557 - val_acc: 0.9862\n",
            "Epoch 12/100\n",
            "1872/1875 [============================>.] - ETA: 0s - loss: 0.0313 - acc: 0.9903\n",
            "Epoch 12: val_loss did not improve from 0.05333\n",
            "1875/1875 [==============================] - 9s 5ms/step - loss: 0.0313 - acc: 0.9903 - val_loss: 0.0585 - val_acc: 0.9860\n",
            "Epoch 13/100\n",
            "1868/1875 [============================>.] - ETA: 0s - loss: 0.0309 - acc: 0.9906\n",
            "Epoch 13: val_loss did not improve from 0.05333\n",
            "1875/1875 [==============================] - 10s 5ms/step - loss: 0.0308 - acc: 0.9906 - val_loss: 0.0562 - val_acc: 0.9870\n",
            "Epoch 14/100\n",
            "1871/1875 [============================>.] - ETA: 0s - loss: 0.0307 - acc: 0.9908\n",
            "Epoch 14: val_loss did not improve from 0.05333\n",
            "1875/1875 [==============================] - 8s 4ms/step - loss: 0.0307 - acc: 0.9908 - val_loss: 0.0612 - val_acc: 0.9856\n",
            "Epoch 15/100\n",
            "1869/1875 [============================>.] - ETA: 0s - loss: 0.0270 - acc: 0.9918\n",
            "Epoch 15: val_loss did not improve from 0.05333\n",
            "1875/1875 [==============================] - 8s 4ms/step - loss: 0.0269 - acc: 0.9918 - val_loss: 0.0564 - val_acc: 0.9864\n"
          ]
        }
      ]
    },
    {
      "cell_type": "markdown",
      "metadata": {
        "id": "sad-nTMol_qX"
      },
      "source": [
        "## 6. Evaluation (callbacks=[ModelCheckpoint])"
      ]
    },
    {
      "cell_type": "code",
      "metadata": {
        "id": "gRWkGPyXl_qt",
        "colab": {
          "base_uri": "https://localhost:8080/"
        },
        "outputId": "04a9578f-7ff1-4c17-df07-af83feca41bd"
      },
      "source": [
        "# checkpoint 를 저장한 파일명을 입력합니다.\n",
        "model.load_weights(checkpoint_path)\n",
        "# 모델의 구조와 파라미터를 출력합니다.\n",
        "model.summary()\n",
        "model.evaluate(x_test, y_test)"
      ],
      "execution_count": null,
      "outputs": [
        {
          "output_type": "stream",
          "name": "stdout",
          "text": [
            "Model: \"sequential\"\n",
            "_________________________________________________________________\n",
            " Layer (type)                Output Shape              Param #   \n",
            "=================================================================\n",
            " flatten (Flatten)           (None, 784)               0         \n",
            "                                                                 \n",
            " dense (Dense)               (None, 1024)              803840    \n",
            "                                                                 \n",
            " dropout (Dropout)           (None, 1024)              0         \n",
            "                                                                 \n",
            " dense_1 (Dense)             (None, 256)               262400    \n",
            "                                                                 \n",
            " dropout_1 (Dropout)         (None, 256)               0         \n",
            "                                                                 \n",
            " dense_2 (Dense)             (None, 256)               65792     \n",
            "                                                                 \n",
            " batch_normalization (BatchN  (None, 256)              1024      \n",
            " ormalization)                                                   \n",
            "                                                                 \n",
            " dense_3 (Dense)             (None, 64)                16448     \n",
            "                                                                 \n",
            " batch_normalization_1 (Batc  (None, 64)               256       \n",
            " hNormalization)                                                 \n",
            "                                                                 \n",
            " dense_4 (Dense)             (None, 10)                650       \n",
            "                                                                 \n",
            "=================================================================\n",
            "Total params: 1,150,410\n",
            "Trainable params: 1,149,770\n",
            "Non-trainable params: 640\n",
            "_________________________________________________________________\n",
            "313/313 [==============================] - 1s 2ms/step - loss: 0.0533 - acc: 0.9860\n"
          ]
        },
        {
          "output_type": "execute_result",
          "data": {
            "text/plain": [
              "[0.05332822725176811, 0.9860000014305115]"
            ]
          },
          "metadata": {},
          "execution_count": 19
        }
      ]
    },
    {
      "cell_type": "markdown",
      "metadata": {
        "id": "gA7cF5fxl_q0"
      },
      "source": [
        "## 7. 모델 검증하기 (시각화)"
      ]
    },
    {
      "cell_type": "code",
      "metadata": {
        "id": "zxQ5OXxhl_q1",
        "colab": {
          "base_uri": "https://localhost:8080/",
          "height": 803
        },
        "outputId": "df921b60-b14e-458b-f0cf-8bd2195e6de2"
      },
      "source": [
        "# plt.figure(figsize=(12, 9))\n",
        "# plt.plot(np.arange(1, 16), history.history['loss'])\n",
        "# plt.plot(np.arange(1, 16), history.history['val_loss'])\n",
        "# plt.title('Loss / Val Loss', fontsize=20)\n",
        "# plt.xlabel('Epochs')\n",
        "# plt.ylabel('Loss')\n",
        "# plt.legend(['loss', 'val_loss'], fontsize=15)\n",
        "# plt.show()\n",
        "\n",
        "plt.figure(figsize=(12, 9))\n",
        "epochs = len(history.history['loss'])  # epochs 값을 가져옴\n",
        "plt.plot(np.arange(1, epochs+1), history.history['loss'])\n",
        "plt.plot(np.arange(1, epochs+1), history.history['val_loss'])\n",
        "plt.title('Loss / Val Loss', fontsize=20)\n",
        "plt.xlabel('Epochs')\n",
        "plt.ylabel('Loss')\n",
        "plt.legend(['loss', 'val_loss'], fontsize=15)\n",
        "plt.show()\n"
      ],
      "execution_count": null,
      "outputs": [
        {
          "output_type": "display_data",
          "data": {
            "text/plain": [
              "<Figure size 1200x900 with 1 Axes>"
            ],
            "image/png": "[encoded data removed]"
          },
          "metadata": {}
        }
      ]
    },
    {
      "cell_type": "code",
      "metadata": {
        "id": "VIN6x-K8l_q7",
        "colab": {
          "base_uri": "https://localhost:8080/",
          "height": 803
        },
        "outputId": "30041115-e50b-48a7-ef08-90dbc8d4dae5"
      },
      "source": [
        "plt.figure(figsize=(12, 9))\n",
        "plt.plot(np.arange(1, epochs+1), history.history['acc'])\n",
        "plt.plot(np.arange(1, epochs+1), history.history['val_acc'])\n",
        "plt.title('Acc / Val Acc', fontsize=20)\n",
        "plt.xlabel('Epochs')\n",
        "plt.ylabel('Acc')\n",
        "plt.legend(['acc', 'val_acc'], fontsize=15)\n",
        "plt.show()"
      ],
      "execution_count": null,
      "outputs": [
        {
          "output_type": "display_data",
          "data": {
            "text/plain": [
              "<Figure size 1200x900 with 1 Axes>"
            ],
            "image/png": "[encoded data removed]"
          },
          "metadata": {}
        }
      ]
    },
    {
      "cell_type": "markdown",
      "metadata": {
        "id": "l-E_NB4ENJpm"
      },
      "source": [
        "## CNN을 사용해서 같은 문제 학습해보기"
      ]
    },
    {
      "cell_type": "code",
      "metadata": {
        "id": "NQ8Z5btJNT9e"
      },
      "source": [
        "import numpy as np\n",
        "import matplotlib.pyplot as plt\n",
        "import tensorflow as tf\n",
        "from tensorflow.keras.layers import Dense, Flatten, Dropout, BatchNormalization\n",
        "from tensorflow.keras.layers import Conv2D, MaxPooling2D\n",
        "from tensorflow.keras.models import Sequential\n",
        "from tensorflow.keras.callbacks import ModelCheckpoint, EarlyStopping"
      ],
      "execution_count": null,
      "outputs": []
    },
    {
      "cell_type": "code",
      "source": [
        "mnist = tf.keras.datasets.mnist\n",
        "(x_train, y_train), (x_test, y_test) = mnist.load_data()\n",
        "x_train = x_train.reshape(60000, 28,28,1)\n",
        "x_test = x_test.reshape(10000, 28,28,1)\n",
        "x_train = x_train/255.0\n",
        "x_test = x_test/255.0"
      ],
      "metadata": {
        "id": "4-PS23cMs8sr"
      },
      "execution_count": null,
      "outputs": []
    },
    {
      "cell_type": "code",
      "metadata": {
        "id": "zTbvYaqhv3ZZ",
        "colab": {
          "base_uri": "https://localhost:8080/"
        },
        "outputId": "a8ee173a-9148-422f-ed1e-90e5cb85951c"
      },
      "source": [
        "model = Sequential([\n",
        "    Conv2D(64, (3,3),input_shape=(28,28,1), activation='relu' ),\n",
        "    MaxPooling2D(2,2),\n",
        "    Conv2D(32, (3,3),  activation='relu' ),\n",
        "    MaxPooling2D(2,2),\n",
        "    Flatten(),\n",
        "    Dense(128, activation='relu'),\n",
        "    Dropout(0.5),\n",
        "    Dense(32, activation='relu'),\n",
        "    BatchNormalization(), \n",
        "    Dense(10, activation='softmax')\n",
        "])\n",
        "early_stopping = EarlyStopping(monitor='val_loss', patience=10)\n",
        "model.compile(optimizer='adam', loss='sparse_categorical_crossentropy', metrics=['acc'])\n",
        "checkpoint_path = \"checkpoint.ckpt\"\n",
        "checkpoint = ModelCheckpoint(filepath=checkpoint_path, \n",
        "    save_weights_only=True, \n",
        "    save_best_only=True, \n",
        "    monitor='val_loss', \n",
        "    verbose=1)\n",
        "history = model.fit(x_train, y_train, \n",
        "    validation_data=(x_test, y_test),\n",
        "    verbose=1,\n",
        "    epochs=50,\n",
        "    callbacks=[checkpoint, early_stopping]                \n",
        ")\n",
        "model.summary()\n",
        "model.load_weights(checkpoint_path)\n",
        "model.save(\"mymodel.h5\")"
      ],
      "execution_count": null,
      "outputs": [
        {
          "output_type": "stream",
          "name": "stdout",
          "text": [
            "Epoch 1/50\n",
            "1874/1875 [============================>.] - ETA: 0s - loss: 0.2374 - acc: 0.9333\n",
            "Epoch 1: val_loss improved from inf to 0.03936, saving model to checkpoint.ckpt\n",
            "1875/1875 [==============================] - 16s 5ms/step - loss: 0.2374 - acc: 0.9333 - val_loss: 0.0394 - val_acc: 0.9870\n",
            "Epoch 2/50\n",
            "1862/1875 [============================>.] - ETA: 0s - loss: 0.0837 - acc: 0.9758\n",
            "Epoch 2: val_loss improved from 0.03936 to 0.03765, saving model to checkpoint.ckpt\n",
            "1875/1875 [==============================] - 9s 5ms/step - loss: 0.0834 - acc: 0.9759 - val_loss: 0.0377 - val_acc: 0.9885\n",
            "Epoch 3/50\n",
            "1874/1875 [============================>.] - ETA: 0s - loss: 0.0663 - acc: 0.9810\n",
            "Epoch 3: val_loss improved from 0.03765 to 0.02936, saving model to checkpoint.ckpt\n",
            "1875/1875 [==============================] - 8s 4ms/step - loss: 0.0663 - acc: 0.9810 - val_loss: 0.0294 - val_acc: 0.9905\n",
            "Epoch 4/50\n",
            "1867/1875 [============================>.] - ETA: 0s - loss: 0.0537 - acc: 0.9843\n",
            "Epoch 4: val_loss did not improve from 0.02936\n",
            "1875/1875 [==============================] - 8s 4ms/step - loss: 0.0536 - acc: 0.9844 - val_loss: 0.0314 - val_acc: 0.9909\n",
            "Epoch 5/50\n",
            "1867/1875 [============================>.] - ETA: 0s - loss: 0.0447 - acc: 0.9871\n",
            "Epoch 5: val_loss did not improve from 0.02936\n",
            "1875/1875 [==============================] - 8s 4ms/step - loss: 0.0446 - acc: 0.9871 - val_loss: 0.0375 - val_acc: 0.9881\n",
            "Epoch 6/50\n",
            "1874/1875 [============================>.] - ETA: 0s - loss: 0.0411 - acc: 0.9876\n",
            "Epoch 6: val_loss improved from 0.02936 to 0.02471, saving model to checkpoint.ckpt\n",
            "1875/1875 [==============================] - 8s 4ms/step - loss: 0.0412 - acc: 0.9876 - val_loss: 0.0247 - val_acc: 0.9914\n",
            "Epoch 7/50\n",
            "1871/1875 [============================>.] - ETA: 0s - loss: 0.0372 - acc: 0.9892\n",
            "Epoch 7: val_loss improved from 0.02471 to 0.02330, saving model to checkpoint.ckpt\n",
            "1875/1875 [==============================] - 8s 4ms/step - loss: 0.0372 - acc: 0.9892 - val_loss: 0.0233 - val_acc: 0.9931\n",
            "Epoch 8/50\n",
            "1867/1875 [============================>.] - ETA: 0s - loss: 0.0313 - acc: 0.9910\n",
            "Epoch 8: val_loss did not improve from 0.02330\n",
            "1875/1875 [==============================] - 9s 5ms/step - loss: 0.0312 - acc: 0.9910 - val_loss: 0.0249 - val_acc: 0.9928\n",
            "Epoch 9/50\n",
            "1865/1875 [============================>.] - ETA: 0s - loss: 0.0293 - acc: 0.9913\n",
            "Epoch 9: val_loss did not improve from 0.02330\n",
            "1875/1875 [==============================] - 8s 4ms/step - loss: 0.0293 - acc: 0.9913 - val_loss: 0.0296 - val_acc: 0.9921\n",
            "Epoch 10/50\n",
            "1863/1875 [============================>.] - ETA: 0s - loss: 0.0274 - acc: 0.9922\n",
            "Epoch 10: val_loss did not improve from 0.02330\n",
            "1875/1875 [==============================] - 8s 4ms/step - loss: 0.0275 - acc: 0.9921 - val_loss: 0.0294 - val_acc: 0.9902\n",
            "Epoch 11/50\n",
            "1875/1875 [==============================] - ETA: 0s - loss: 0.0252 - acc: 0.9927\n",
            "Epoch 11: val_loss did not improve from 0.02330\n",
            "1875/1875 [==============================] - 8s 4ms/step - loss: 0.0252 - acc: 0.9927 - val_loss: 0.0328 - val_acc: 0.9903\n",
            "Epoch 12/50\n",
            "1871/1875 [============================>.] - ETA: 0s - loss: 0.0235 - acc: 0.9931\n",
            "Epoch 12: val_loss did not improve from 0.02330\n",
            "1875/1875 [==============================] - 8s 4ms/step - loss: 0.0235 - acc: 0.9931 - val_loss: 0.0347 - val_acc: 0.9907\n",
            "Epoch 13/50\n",
            "1870/1875 [============================>.] - ETA: 0s - loss: 0.0221 - acc: 0.9936\n",
            "Epoch 13: val_loss did not improve from 0.02330\n",
            "1875/1875 [==============================] - 8s 4ms/step - loss: 0.0220 - acc: 0.9936 - val_loss: 0.0252 - val_acc: 0.9936\n",
            "Epoch 14/50\n",
            "1873/1875 [============================>.] - ETA: 0s - loss: 0.0198 - acc: 0.9943\n",
            "Epoch 14: val_loss did not improve from 0.02330\n",
            "1875/1875 [==============================] - 9s 5ms/step - loss: 0.0199 - acc: 0.9943 - val_loss: 0.0237 - val_acc: 0.9934\n",
            "Epoch 15/50\n",
            "1866/1875 [============================>.] - ETA: 0s - loss: 0.0200 - acc: 0.9938\n",
            "Epoch 15: val_loss did not improve from 0.02330\n",
            "1875/1875 [==============================] - 8s 4ms/step - loss: 0.0200 - acc: 0.9938 - val_loss: 0.0281 - val_acc: 0.9920\n",
            "Epoch 16/50\n",
            "1869/1875 [============================>.] - ETA: 0s - loss: 0.0185 - acc: 0.9942\n",
            "Epoch 16: val_loss did not improve from 0.02330\n",
            "1875/1875 [==============================] - 9s 5ms/step - loss: 0.0184 - acc: 0.9942 - val_loss: 0.0281 - val_acc: 0.9919\n",
            "Epoch 17/50\n",
            "1865/1875 [============================>.] - ETA: 0s - loss: 0.0174 - acc: 0.9949\n",
            "Epoch 17: val_loss did not improve from 0.02330\n",
            "1875/1875 [==============================] - 8s 4ms/step - loss: 0.0174 - acc: 0.9949 - val_loss: 0.0237 - val_acc: 0.9940\n",
            "Model: \"sequential_1\"\n",
            "_________________________________________________________________\n",
            " Layer (type)                Output Shape              Param #   \n",
            "=================================================================\n",
            " conv2d (Conv2D)             (None, 26, 26, 64)        640       \n",
            "                                                                 \n",
            " max_pooling2d (MaxPooling2D  (None, 13, 13, 64)       0         \n",
            " )                                                               \n",
            "                                                                 \n",
            " conv2d_1 (Conv2D)           (None, 11, 11, 32)        18464     \n",
            "                                                                 \n",
            " max_pooling2d_1 (MaxPooling  (None, 5, 5, 32)         0         \n",
            " 2D)                                                             \n",
            "                                                                 \n",
            " flatten_1 (Flatten)         (None, 800)               0         \n",
            "                                                                 \n",
            " dense_5 (Dense)             (None, 128)               102528    \n",
            "                                                                 \n",
            " dropout_2 (Dropout)         (None, 128)               0         \n",
            "                                                                 \n",
            " dense_6 (Dense)             (None, 32)                4128      \n",
            "                                                                 \n",
            " batch_normalization_2 (Batc  (None, 32)               128       \n",
            " hNormalization)                                                 \n",
            "                                                                 \n",
            " dense_7 (Dense)             (None, 10)                330       \n",
            "                                                                 \n",
            "=================================================================\n",
            "Total params: 126,218\n",
            "Trainable params: 126,154\n",
            "Non-trainable params: 64\n",
            "_________________________________________________________________\n"
          ]
        }
      ]
    },
    {
      "cell_type": "code",
      "metadata": {
        "id": "XyvCSoX6NPcD",
        "colab": {
          "base_uri": "https://localhost:8080/",
          "height": 803
        },
        "outputId": "c7e21959-a041-4733-ad45-bf8e9b98ceba"
      },
      "source": [
        "plt.figure(figsize=(12, 9))\n",
        "plt.plot(np.arange(1, 18), history.history['loss'])\n",
        "plt.plot(np.arange(1, 18), history.history['val_loss'])\n",
        "plt.title('Loss / Val Loss', fontsize=20)\n",
        "plt.xlabel('Epochs')\n",
        "plt.ylabel('Loss')\n",
        "plt.legend(['loss', 'val_loss'], fontsize=15)\n",
        "plt.show()"
      ],
      "execution_count": null,
      "outputs": [
        {
          "output_type": "display_data",
          "data": {
            "text/plain": [
              "<Figure size 1200x900 with 1 Axes>"
            ],
            "image/png": "[encoded data removed]"
          },
          "metadata": {}
        }
      ]
    },
    {
      "cell_type": "code",
      "metadata": {
        "id": "ICxL9McS2xHE",
        "colab": {
          "base_uri": "https://localhost:8080/",
          "height": 803
        },
        "outputId": "27ae7a7a-eae4-4954-cfbb-91d074f92e4e"
      },
      "source": [
        "plt.figure(figsize=(12, 9))\n",
        "plt.plot(np.arange(1, 18), history.history['acc'])\n",
        "plt.plot(np.arange(1, 18), history.history['val_acc'])\n",
        "plt.title('Acc / Val Acc', fontsize=20)\n",
        "plt.xlabel('Epochs')\n",
        "plt.ylabel('Acc')\n",
        "plt.legend(['acc', 'val_acc'], fontsize=15)\n",
        "plt.show()"
      ],
      "execution_count": null,
      "outputs": [
        {
          "output_type": "display_data",
          "data": {
            "text/plain": [
              "<Figure size 1200x900 with 1 Axes>"
            ],
            "image/png": "[encoded data removed]"
          },
          "metadata": {}
        }
      ]
    },
    {
      "cell_type": "code",
      "metadata": {
        "id": "R_cSEOJS3KS4",
        "colab": {
          "base_uri": "https://localhost:8080/"
        },
        "outputId": "23106859-c400-4375-8ff5-207c0c9487ea"
      },
      "source": [
        "print(type(history.history))\n",
        "print(history.history)\n",
        "print(len(history.history))\n",
        "print(history.history['acc'])\n",
        "print(history.history['val_acc'])\n",
        "print(history.history['loss'])\n",
        "print(history.history['val_loss'])"
      ],
      "execution_count": null,
      "outputs": [
        {
          "output_type": "stream",
          "name": "stdout",
          "text": [
            "<class 'dict'>\n",
            "{'loss': [0.2373596727848053, 0.08344528079032898, 0.06634306162595749, 0.05358314886689186, 0.04459964111447334, 0.04117118567228317, 0.03721335902810097, 0.031188463792204857, 0.02926676720380783, 0.027491575106978416, 0.02519867569208145, 0.023497238755226135, 0.02202017419040203, 0.019899433478713036, 0.019970253109931946, 0.018420599400997162, 0.01737360469996929], 'acc': [0.9332666397094727, 0.975933313369751, 0.9810166954994202, 0.9843666553497314, 0.9871000051498413, 0.9876000285148621, 0.9892333149909973, 0.9910333156585693, 0.991266667842865, 0.9921333193778992, 0.9927166700363159, 0.9930999875068665, 0.9935833215713501, 0.9943000078201294, 0.9938333630561829, 0.9942166805267334, 0.994866669178009], 'val_loss': [0.03936252370476723, 0.03765195235610008, 0.029361462220549583, 0.03136032819747925, 0.03748902678489685, 0.024708449840545654, 0.02330411784350872, 0.024880966171622276, 0.029594607651233673, 0.029359349980950356, 0.032775960862636566, 0.03468969836831093, 0.02519090659916401, 0.02366199530661106, 0.02805165760219097, 0.028108829632401466, 0.023747771978378296], 'val_acc': [0.9869999885559082, 0.9884999990463257, 0.9904999732971191, 0.9908999800682068, 0.988099992275238, 0.9914000034332275, 0.9930999875068665, 0.9927999973297119, 0.9921000003814697, 0.9901999831199646, 0.9902999997138977, 0.9907000064849854, 0.9936000108718872, 0.993399977684021, 0.9919999837875366, 0.9919000267982483, 0.9940000176429749]}\n",
            "4\n",
            "[0.9332666397094727, 0.975933313369751, 0.9810166954994202, 0.9843666553497314, 0.9871000051498413, 0.9876000285148621, 0.9892333149909973, 0.9910333156585693, 0.991266667842865, 0.9921333193778992, 0.9927166700363159, 0.9930999875068665, 0.9935833215713501, 0.9943000078201294, 0.9938333630561829, 0.9942166805267334, 0.994866669178009]\n",
            "[0.9869999885559082, 0.9884999990463257, 0.9904999732971191, 0.9908999800682068, 0.988099992275238, 0.9914000034332275, 0.9930999875068665, 0.9927999973297119, 0.9921000003814697, 0.9901999831199646, 0.9902999997138977, 0.9907000064849854, 0.9936000108718872, 0.993399977684021, 0.9919999837875366, 0.9919000267982483, 0.9940000176429749]\n",
            "[0.2373596727848053, 0.08344528079032898, 0.06634306162595749, 0.05358314886689186, 0.04459964111447334, 0.04117118567228317, 0.03721335902810097, 0.031188463792204857, 0.02926676720380783, 0.027491575106978416, 0.02519867569208145, 0.023497238755226135, 0.02202017419040203, 0.019899433478713036, 0.019970253109931946, 0.018420599400997162, 0.01737360469996929]\n",
            "[0.03936252370476723, 0.03765195235610008, 0.029361462220549583, 0.03136032819747925, 0.03748902678489685, 0.024708449840545654, 0.02330411784350872, 0.024880966171622276, 0.029594607651233673, 0.029359349980950356, 0.032775960862636566, 0.03468969836831093, 0.02519090659916401, 0.02366199530661106, 0.02805165760219097, 0.028108829632401466, 0.023747771978378296]\n"
          ]
        }
      ]
    },
    {
      "cell_type": "markdown",
      "source": [
        "# Homework 1 : Dense Layer"
      ],
      "metadata": {
        "id": "PDSkuRNGYBeI"
      }
    },
    {
      "cell_type": "markdown",
      "source": [
        "## 직접 코딩\n",
        "기존 모델에서 learning rate를 변경해보겠습니다."
      ],
      "metadata": {
        "id": "UBncLisUYII7"
      }
    },
    {
      "cell_type": "code",
      "source": [
        "checkpoint_path = \"my_checkpoint.ckpt\"\n",
        "checkpoint = ModelCheckpoint(filepath=checkpoint_path, \n",
        "                             save_weights_only=True, \n",
        "                             save_best_only=True, \n",
        "                             monitor='val_loss', \n",
        "                             verbose=1)\n",
        "\n",
        "early_stopping = EarlyStopping(monitor='val_loss', patience=10)\n",
        "\n",
        "model = Sequential([\n",
        "    Flatten(),\n",
        "    Dense(1024, activation='relu'),\n",
        "    Dropout(0.5),\n",
        "    Dense(256, activation='relu'),\n",
        "    Dropout(0.5),\n",
        "    Dense(256, activation='relu'),\n",
        "    BatchNormalization(),\n",
        "    Dense(64, activation='relu'),\n",
        "    BatchNormalization(),\n",
        "    Dense(10, activation='softmax')\n",
        "])\n",
        "\n",
        "opt = tf.keras.optimizers.Adam(lr=0.001)\n",
        "\n",
        "model.compile(optimizer=opt, loss='sparse_categorical_crossentropy', metrics=['acc'])\n",
        "\n",
        "history = model.fit(x_train, y_train,\n",
        "                    validation_data=(x_test, y_test),\n",
        "                    epochs=100,\n",
        "                    callbacks=[checkpoint, early_stopping],\n",
        "                   )\n",
        "\n",
        "# checkpoint 를 저장한 파일명을 입력합니다.\n",
        "model.load_weights(checkpoint_path)\n",
        "# 모델의 구조와 파라미터를 출력합니다.\n",
        "model.summary()\n",
        "model.evaluate(x_test, y_test)"
      ],
      "metadata": {
        "colab": {
          "base_uri": "https://localhost:8080/"
        },
        "id": "4krD0EyfYTzO",
        "outputId": "2e785626-fb22-4962-e0c3-7bc361c3a83a"
      },
      "execution_count": null,
      "outputs": [
        {
          "output_type": "stream",
          "name": "stderr",
          "text": [
            "WARNING:absl:`lr` is deprecated in Keras optimizer, please use `learning_rate` or use the legacy optimizer, e.g.,tf.keras.optimizers.legacy.Adam.\n"
          ]
        },
        {
          "output_type": "stream",
          "name": "stdout",
          "text": [
            "Epoch 1/100\n",
            "1866/1875 [============================>.] - ETA: 0s - loss: 0.4095 - acc: 0.8738\n",
            "Epoch 1: val_loss improved from inf to 0.13900, saving model to my_checkpoint.ckpt\n",
            "1875/1875 [==============================] - 12s 5ms/step - loss: 0.4087 - acc: 0.8741 - val_loss: 0.1390 - val_acc: 0.9576\n",
            "Epoch 2/100\n",
            "1874/1875 [============================>.] - ETA: 0s - loss: 0.1958 - acc: 0.9424\n",
            "Epoch 2: val_loss improved from 0.13900 to 0.10015, saving model to my_checkpoint.ckpt\n",
            "1875/1875 [==============================] - 9s 5ms/step - loss: 0.1958 - acc: 0.9424 - val_loss: 0.1001 - val_acc: 0.9708\n",
            "Epoch 3/100\n",
            "1870/1875 [============================>.] - ETA: 0s - loss: 0.1562 - acc: 0.9535\n",
            "Epoch 3: val_loss improved from 0.10015 to 0.09077, saving model to my_checkpoint.ckpt\n",
            "1875/1875 [==============================] - 9s 5ms/step - loss: 0.1563 - acc: 0.9535 - val_loss: 0.0908 - val_acc: 0.9731\n",
            "Epoch 4/100\n",
            "1869/1875 [============================>.] - ETA: 0s - loss: 0.1304 - acc: 0.9624\n",
            "Epoch 4: val_loss improved from 0.09077 to 0.07840, saving model to my_checkpoint.ckpt\n",
            "1875/1875 [==============================] - 8s 4ms/step - loss: 0.1304 - acc: 0.9624 - val_loss: 0.0784 - val_acc: 0.9773\n",
            "Epoch 5/100\n",
            "1869/1875 [============================>.] - ETA: 0s - loss: 0.1170 - acc: 0.9664\n",
            "Epoch 5: val_loss improved from 0.07840 to 0.07603, saving model to my_checkpoint.ckpt\n",
            "1875/1875 [==============================] - 9s 5ms/step - loss: 0.1169 - acc: 0.9665 - val_loss: 0.0760 - val_acc: 0.9772\n",
            "Epoch 6/100\n",
            "1873/1875 [============================>.] - ETA: 0s - loss: 0.1034 - acc: 0.9697\n",
            "Epoch 6: val_loss improved from 0.07603 to 0.07256, saving model to my_checkpoint.ckpt\n",
            "1875/1875 [==============================] - 8s 4ms/step - loss: 0.1034 - acc: 0.9696 - val_loss: 0.0726 - val_acc: 0.9790\n",
            "Epoch 7/100\n",
            "1868/1875 [============================>.] - ETA: 0s - loss: 0.0946 - acc: 0.9725\n",
            "Epoch 7: val_loss improved from 0.07256 to 0.07234, saving model to my_checkpoint.ckpt\n",
            "1875/1875 [==============================] - 8s 4ms/step - loss: 0.0947 - acc: 0.9725 - val_loss: 0.0723 - val_acc: 0.9794\n",
            "Epoch 8/100\n",
            "1870/1875 [============================>.] - ETA: 0s - loss: 0.0852 - acc: 0.9756\n",
            "Epoch 8: val_loss improved from 0.07234 to 0.06213, saving model to my_checkpoint.ckpt\n",
            "1875/1875 [==============================] - 8s 4ms/step - loss: 0.0854 - acc: 0.9755 - val_loss: 0.0621 - val_acc: 0.9826\n",
            "Epoch 9/100\n",
            "1865/1875 [============================>.] - ETA: 0s - loss: 0.0775 - acc: 0.9775\n",
            "Epoch 9: val_loss did not improve from 0.06213\n",
            "1875/1875 [==============================] - 8s 4ms/step - loss: 0.0780 - acc: 0.9773 - val_loss: 0.0647 - val_acc: 0.9807\n",
            "Epoch 10/100\n",
            "1867/1875 [============================>.] - ETA: 0s - loss: 0.0710 - acc: 0.9792\n",
            "Epoch 10: val_loss did not improve from 0.06213\n",
            "1875/1875 [==============================] - 8s 4ms/step - loss: 0.0711 - acc: 0.9792 - val_loss: 0.0625 - val_acc: 0.9821\n",
            "Epoch 11/100\n",
            "1865/1875 [============================>.] - ETA: 0s - loss: 0.0664 - acc: 0.9805\n",
            "Epoch 11: val_loss improved from 0.06213 to 0.05803, saving model to my_checkpoint.ckpt\n",
            "1875/1875 [==============================] - 8s 4ms/step - loss: 0.0664 - acc: 0.9805 - val_loss: 0.0580 - val_acc: 0.9837\n",
            "Epoch 12/100\n",
            "1862/1875 [============================>.] - ETA: 0s - loss: 0.0641 - acc: 0.9811\n",
            "Epoch 12: val_loss improved from 0.05803 to 0.05647, saving model to my_checkpoint.ckpt\n",
            "1875/1875 [==============================] - 8s 4ms/step - loss: 0.0639 - acc: 0.9812 - val_loss: 0.0565 - val_acc: 0.9848\n",
            "Epoch 13/100\n",
            "1862/1875 [============================>.] - ETA: 0s - loss: 0.0586 - acc: 0.9824\n",
            "Epoch 13: val_loss did not improve from 0.05647\n",
            "1875/1875 [==============================] - 8s 4ms/step - loss: 0.0585 - acc: 0.9825 - val_loss: 0.0641 - val_acc: 0.9819\n",
            "Epoch 14/100\n",
            "1874/1875 [============================>.] - ETA: 0s - loss: 0.0563 - acc: 0.9831\n",
            "Epoch 14: val_loss did not improve from 0.05647\n",
            "1875/1875 [==============================] - 8s 4ms/step - loss: 0.0562 - acc: 0.9831 - val_loss: 0.0595 - val_acc: 0.9835\n",
            "Epoch 15/100\n",
            "1872/1875 [============================>.] - ETA: 0s - loss: 0.0518 - acc: 0.9845\n",
            "Epoch 15: val_loss did not improve from 0.05647\n",
            "1875/1875 [==============================] - 8s 4ms/step - loss: 0.0517 - acc: 0.9845 - val_loss: 0.0589 - val_acc: 0.9840\n",
            "Epoch 16/100\n",
            "1867/1875 [============================>.] - ETA: 0s - loss: 0.0498 - acc: 0.9851\n",
            "Epoch 16: val_loss did not improve from 0.05647\n",
            "1875/1875 [==============================] - 8s 4ms/step - loss: 0.0499 - acc: 0.9851 - val_loss: 0.0576 - val_acc: 0.9832\n",
            "Epoch 17/100\n",
            "1863/1875 [============================>.] - ETA: 0s - loss: 0.0472 - acc: 0.9859\n",
            "Epoch 17: val_loss did not improve from 0.05647\n",
            "1875/1875 [==============================] - 8s 4ms/step - loss: 0.0471 - acc: 0.9860 - val_loss: 0.0595 - val_acc: 0.9832\n",
            "Epoch 18/100\n",
            "1872/1875 [============================>.] - ETA: 0s - loss: 0.0440 - acc: 0.9868\n",
            "Epoch 18: val_loss did not improve from 0.05647\n",
            "1875/1875 [==============================] - 8s 4ms/step - loss: 0.0440 - acc: 0.9868 - val_loss: 0.0593 - val_acc: 0.9839\n",
            "Epoch 19/100\n",
            "1875/1875 [==============================] - ETA: 0s - loss: 0.0428 - acc: 0.9869\n",
            "Epoch 19: val_loss improved from 0.05647 to 0.05537, saving model to my_checkpoint.ckpt\n",
            "1875/1875 [==============================] - 8s 4ms/step - loss: 0.0428 - acc: 0.9869 - val_loss: 0.0554 - val_acc: 0.9846\n",
            "Epoch 20/100\n",
            "1863/1875 [============================>.] - ETA: 0s - loss: 0.0399 - acc: 0.9882\n",
            "Epoch 20: val_loss improved from 0.05537 to 0.05243, saving model to my_checkpoint.ckpt\n",
            "1875/1875 [==============================] - 8s 4ms/step - loss: 0.0400 - acc: 0.9882 - val_loss: 0.0524 - val_acc: 0.9863\n",
            "Epoch 21/100\n",
            "1863/1875 [============================>.] - ETA: 0s - loss: 0.0378 - acc: 0.9887\n",
            "Epoch 21: val_loss did not improve from 0.05243\n",
            "1875/1875 [==============================] - 8s 4ms/step - loss: 0.0378 - acc: 0.9887 - val_loss: 0.0573 - val_acc: 0.9862\n",
            "Epoch 22/100\n",
            "1874/1875 [============================>.] - ETA: 0s - loss: 0.0364 - acc: 0.9887\n",
            "Epoch 22: val_loss did not improve from 0.05243\n",
            "1875/1875 [==============================] - 8s 4ms/step - loss: 0.0364 - acc: 0.9887 - val_loss: 0.0606 - val_acc: 0.9842\n",
            "Epoch 23/100\n",
            "1866/1875 [============================>.] - ETA: 0s - loss: 0.0346 - acc: 0.9896\n",
            "Epoch 23: val_loss did not improve from 0.05243\n",
            "1875/1875 [==============================] - 8s 4ms/step - loss: 0.0348 - acc: 0.9895 - val_loss: 0.0560 - val_acc: 0.9857\n",
            "Epoch 24/100\n",
            "1866/1875 [============================>.] - ETA: 0s - loss: 0.0355 - acc: 0.9891\n",
            "Epoch 24: val_loss did not improve from 0.05243\n",
            "1875/1875 [==============================] - 8s 4ms/step - loss: 0.0356 - acc: 0.9891 - val_loss: 0.0612 - val_acc: 0.9848\n",
            "Epoch 25/100\n",
            "1865/1875 [============================>.] - ETA: 0s - loss: 0.0327 - acc: 0.9897\n",
            "Epoch 25: val_loss did not improve from 0.05243\n",
            "1875/1875 [==============================] - 8s 4ms/step - loss: 0.0327 - acc: 0.9897 - val_loss: 0.0572 - val_acc: 0.9852\n",
            "Epoch 26/100\n",
            "1867/1875 [============================>.] - ETA: 0s - loss: 0.0309 - acc: 0.9904\n",
            "Epoch 26: val_loss did not improve from 0.05243\n",
            "1875/1875 [==============================] - 8s 4ms/step - loss: 0.0309 - acc: 0.9904 - val_loss: 0.0593 - val_acc: 0.9844\n",
            "Epoch 27/100\n",
            "1871/1875 [============================>.] - ETA: 0s - loss: 0.0312 - acc: 0.9902\n",
            "Epoch 27: val_loss did not improve from 0.05243\n",
            "1875/1875 [==============================] - 8s 4ms/step - loss: 0.0313 - acc: 0.9902 - val_loss: 0.0572 - val_acc: 0.9859\n",
            "Epoch 28/100\n",
            "1866/1875 [============================>.] - ETA: 0s - loss: 0.0302 - acc: 0.9905\n",
            "Epoch 28: val_loss did not improve from 0.05243\n",
            "1875/1875 [==============================] - 8s 4ms/step - loss: 0.0302 - acc: 0.9905 - val_loss: 0.0526 - val_acc: 0.9867\n",
            "Epoch 29/100\n",
            "1871/1875 [============================>.] - ETA: 0s - loss: 0.0279 - acc: 0.9914\n",
            "Epoch 29: val_loss did not improve from 0.05243\n",
            "1875/1875 [==============================] - 8s 4ms/step - loss: 0.0279 - acc: 0.9915 - val_loss: 0.0569 - val_acc: 0.9854\n",
            "Epoch 30/100\n",
            "1864/1875 [============================>.] - ETA: 0s - loss: 0.0266 - acc: 0.9919\n",
            "Epoch 30: val_loss did not improve from 0.05243\n",
            "1875/1875 [==============================] - 8s 4ms/step - loss: 0.0266 - acc: 0.9919 - val_loss: 0.0605 - val_acc: 0.9861\n",
            "Model: \"sequential_5\"\n",
            "_________________________________________________________________\n",
            " Layer (type)                Output Shape              Param #   \n",
            "=================================================================\n",
            " flatten_5 (Flatten)         (None, 784)               0         \n",
            "                                                                 \n",
            " dense_23 (Dense)            (None, 1024)              803840    \n",
            "                                                                 \n",
            " dropout_11 (Dropout)        (None, 1024)              0         \n",
            "                                                                 \n",
            " dense_24 (Dense)            (None, 256)               262400    \n",
            "                                                                 \n",
            " dropout_12 (Dropout)        (None, 256)               0         \n",
            "                                                                 \n",
            " dense_25 (Dense)            (None, 256)               65792     \n",
            "                                                                 \n",
            " batch_normalization_7 (Batc  (None, 256)              1024      \n",
            " hNormalization)                                                 \n",
            "                                                                 \n",
            " dense_26 (Dense)            (None, 64)                16448     \n",
            "                                                                 \n",
            " batch_normalization_8 (Batc  (None, 64)               256       \n",
            " hNormalization)                                                 \n",
            "                                                                 \n",
            " dense_27 (Dense)            (None, 10)                650       \n",
            "                                                                 \n",
            "=================================================================\n",
            "Total params: 1,150,410\n",
            "Trainable params: 1,149,770\n",
            "Non-trainable params: 640\n",
            "_________________________________________________________________\n",
            "313/313 [==============================] - 1s 2ms/step - loss: 0.0524 - acc: 0.9863\n"
          ]
        },
        {
          "output_type": "execute_result",
          "data": {
            "text/plain": [
              "[0.05243439972400665, 0.986299991607666]"
            ]
          },
          "metadata": {},
          "execution_count": 38
        }
      ]
    },
    {
      "cell_type": "markdown",
      "source": [
        "## ChatGPT\n",
        "큰 성능 개선을 보이지 않음.\n",
        "최소한의 모델 구조만 구현해서인 것 같음."
      ],
      "metadata": {
        "id": "zVCsyYICYJs4"
      }
    },
    {
      "cell_type": "code",
      "source": [
        "import tensorflow as tf\n",
        "from tensorflow import keras\n",
        "\n",
        "# MNIST 데이터셋 로드\n",
        "mnist = keras.datasets.mnist\n",
        "(x_train, y_train), (x_test, y_test) = mnist.load_data()\n",
        "\n",
        "# 데이터 전처리\n",
        "x_train = x_train.astype('float32') / 255.\n",
        "x_test = x_test.astype('float32') / 255.\n",
        "\n",
        "# 모델 구성\n",
        "model = keras.Sequential([\n",
        "    keras.layers.Flatten(input_shape=(28, 28)),\n",
        "    keras.layers.Dense(256, activation='relu'),\n",
        "    keras.layers.Dropout(0.2),\n",
        "    keras.layers.BatchNormalization(),\n",
        "    keras.layers.Dense(128, activation='relu'),\n",
        "    keras.layers.Dropout(0.2),\n",
        "    keras.layers.BatchNormalization(),\n",
        "    keras.layers.Dense(10, activation='softmax')\n",
        "])\n",
        "\n",
        "\n",
        "# 모델 컴파일\n",
        "model.compile(optimizer='adam',\n",
        "              loss='sparse_categorical_crossentropy',\n",
        "              metrics=['accuracy'])\n",
        "\n",
        "# 모델 훈련\n",
        "history = model.fit(x_train, y_train,\n",
        "                    epochs=10,\n",
        "                    batch_size=32,\n",
        "                    validation_data=(x_test, y_test))\n",
        "\n",
        "# 모델 평가\n",
        "test_loss, test_acc = model.evaluate(x_test, y_test, verbose=2)\n",
        "print('Test accuracy:', test_acc)\n"
      ],
      "metadata": {
        "colab": {
          "base_uri": "https://localhost:8080/"
        },
        "id": "aBKLU6xAi1xy",
        "outputId": "ad22a233-75a5-4c07-bca1-ab07c08842d7"
      },
      "execution_count": null,
      "outputs": [
        {
          "output_type": "stream",
          "name": "stdout",
          "text": [
            "Epoch 1/10\n",
            "1875/1875 [==============================] - 23s 4ms/step - loss: 0.3063 - accuracy: 0.9065 - val_loss: 0.1223 - val_accuracy: 0.9615\n",
            "Epoch 2/10\n",
            "1875/1875 [==============================] - 7s 4ms/step - loss: 0.1767 - accuracy: 0.9464 - val_loss: 0.1026 - val_accuracy: 0.9678\n",
            "Epoch 3/10\n",
            "1875/1875 [==============================] - 7s 4ms/step - loss: 0.1417 - accuracy: 0.9560 - val_loss: 0.0812 - val_accuracy: 0.9737\n",
            "Epoch 4/10\n",
            "1875/1875 [==============================] - 8s 4ms/step - loss: 0.1255 - accuracy: 0.9619 - val_loss: 0.0862 - val_accuracy: 0.9723\n",
            "Epoch 5/10\n",
            "1875/1875 [==============================] - 8s 4ms/step - loss: 0.1140 - accuracy: 0.9650 - val_loss: 0.0735 - val_accuracy: 0.9779\n",
            "Epoch 6/10\n",
            "1875/1875 [==============================] - 9s 5ms/step - loss: 0.1034 - accuracy: 0.9672 - val_loss: 0.0737 - val_accuracy: 0.9768\n",
            "Epoch 7/10\n",
            "1875/1875 [==============================] - 11s 6ms/step - loss: 0.0967 - accuracy: 0.9693 - val_loss: 0.0627 - val_accuracy: 0.9808\n",
            "Epoch 8/10\n",
            "1875/1875 [==============================] - 8s 4ms/step - loss: 0.0904 - accuracy: 0.9715 - val_loss: 0.0615 - val_accuracy: 0.9808\n",
            "Epoch 9/10\n",
            "1875/1875 [==============================] - 7s 4ms/step - loss: 0.0810 - accuracy: 0.9747 - val_loss: 0.0648 - val_accuracy: 0.9801\n",
            "Epoch 10/10\n",
            "1875/1875 [==============================] - 9s 5ms/step - loss: 0.0807 - accuracy: 0.9739 - val_loss: 0.0623 - val_accuracy: 0.9812\n",
            "313/313 - 1s - loss: 0.0623 - accuracy: 0.9812 - 580ms/epoch - 2ms/step\n",
            "Test accuracy: 0.9811999797821045\n"
          ]
        }
      ]
    },
    {
      "cell_type": "markdown",
      "source": [
        "# Homework 2 : CNN"
      ],
      "metadata": {
        "id": "-DN5LA4BYGGX"
      }
    },
    {
      "cell_type": "markdown",
      "source": [
        "## 직접 코딩"
      ],
      "metadata": {
        "id": "h4xLPRPDYOWO"
      }
    },
    {
      "cell_type": "code",
      "source": [
        "early_stopping = EarlyStopping(monitor='val_loss', patience=10)\n",
        "\n",
        "checkpoint_path = \"checkpoint.ckpt\"\n",
        "checkpoint = ModelCheckpoint(filepath=checkpoint_path, \n",
        "    save_weights_only=True, \n",
        "    save_best_only=True, \n",
        "    monitor='val_loss', \n",
        "    verbose=1)\n",
        "\n",
        "model = Sequential([\n",
        "    Conv2D(64, (3,3),input_shape=(28,28,1), activation='relu' ),\n",
        "    MaxPooling2D(2,2),\n",
        "    # CNN + MP 한 층 더 쌓기\n",
        "    Conv2D(64, (3,3),input_shape=(28,28,1), activation='relu' ),\n",
        "    MaxPooling2D(2,2),\n",
        "    Conv2D(32, (3,3),  activation='relu' ),\n",
        "    MaxPooling2D(2,2),\n",
        "    Flatten(),\n",
        "    Dense(128, activation='relu'),\n",
        "    Dropout(0.5),\n",
        "    # Dense 한 층 더 쌓기\n",
        "    Dense(64, activation='relu'),\n",
        "    Dropout(0.5),\n",
        "    Dense(32, activation='relu'),\n",
        "    BatchNormalization(), \n",
        "    Dense(10, activation='softmax')\n",
        "])\n",
        "\n",
        "model.compile(optimizer='adam', loss='sparse_categorical_crossentropy', metrics=['acc'])\n",
        "\n",
        "\n",
        "history = model.fit(x_train, y_train, \n",
        "    validation_data=(x_test, y_test),\n",
        "    verbose=1,\n",
        "    epochs=50,\n",
        "    callbacks=[checkpoint, early_stopping]                \n",
        ")\n",
        "model.summary()\n",
        "model.load_weights(checkpoint_path)\n",
        "model.save(\"mymodel.h5\")"
      ],
      "metadata": {
        "colab": {
          "base_uri": "https://localhost:8080/"
        },
        "id": "VATUUpw1YHjh",
        "outputId": "0e0762e9-5b2a-42c8-888c-d17be85f1272"
      },
      "execution_count": null,
      "outputs": [
        {
          "output_type": "stream",
          "name": "stdout",
          "text": [
            "Epoch 1/50\n",
            "1867/1875 [============================>.] - ETA: 0s - loss: 0.5147 - acc: 0.8445\n",
            "Epoch 1: val_loss improved from inf to 0.09970, saving model to checkpoint.ckpt\n",
            "1875/1875 [==============================] - 13s 6ms/step - loss: 0.5134 - acc: 0.8450 - val_loss: 0.0997 - val_acc: 0.9722\n",
            "Epoch 2/50\n",
            "1869/1875 [============================>.] - ETA: 0s - loss: 0.1655 - acc: 0.9586\n",
            "Epoch 2: val_loss improved from 0.09970 to 0.07476, saving model to checkpoint.ckpt\n",
            "1875/1875 [==============================] - 9s 5ms/step - loss: 0.1652 - acc: 0.9587 - val_loss: 0.0748 - val_acc: 0.9797\n",
            "Epoch 3/50\n",
            "1870/1875 [============================>.] - ETA: 0s - loss: 0.1242 - acc: 0.9699\n",
            "Epoch 3: val_loss did not improve from 0.07476\n",
            "1875/1875 [==============================] - 9s 5ms/step - loss: 0.1241 - acc: 0.9700 - val_loss: 0.0799 - val_acc: 0.9779\n",
            "Epoch 4/50\n",
            "1874/1875 [============================>.] - ETA: 0s - loss: 0.1056 - acc: 0.9747\n",
            "Epoch 4: val_loss improved from 0.07476 to 0.07065, saving model to checkpoint.ckpt\n",
            "1875/1875 [==============================] - 10s 5ms/step - loss: 0.1055 - acc: 0.9747 - val_loss: 0.0707 - val_acc: 0.9820\n",
            "Epoch 5/50\n",
            "1873/1875 [============================>.] - ETA: 0s - loss: 0.0895 - acc: 0.9785\n",
            "Epoch 5: val_loss did not improve from 0.07065\n",
            "1875/1875 [==============================] - 10s 5ms/step - loss: 0.0894 - acc: 0.9785 - val_loss: 0.0733 - val_acc: 0.9814\n",
            "Epoch 6/50\n",
            "1871/1875 [============================>.] - ETA: 0s - loss: 0.0787 - acc: 0.9810\n",
            "Epoch 6: val_loss improved from 0.07065 to 0.06595, saving model to checkpoint.ckpt\n",
            "1875/1875 [==============================] - 10s 5ms/step - loss: 0.0788 - acc: 0.9810 - val_loss: 0.0660 - val_acc: 0.9845\n",
            "Epoch 7/50\n",
            "1873/1875 [============================>.] - ETA: 0s - loss: 0.0730 - acc: 0.9821\n",
            "Epoch 7: val_loss did not improve from 0.06595\n",
            "1875/1875 [==============================] - 10s 5ms/step - loss: 0.0731 - acc: 0.9821 - val_loss: 0.0732 - val_acc: 0.9834\n",
            "Epoch 8/50\n",
            "1874/1875 [============================>.] - ETA: 0s - loss: 0.0674 - acc: 0.9840\n",
            "Epoch 8: val_loss improved from 0.06595 to 0.06144, saving model to checkpoint.ckpt\n",
            "1875/1875 [==============================] - 9s 5ms/step - loss: 0.0674 - acc: 0.9840 - val_loss: 0.0614 - val_acc: 0.9848\n",
            "Epoch 9/50\n",
            "1875/1875 [==============================] - ETA: 0s - loss: 0.0610 - acc: 0.9858\n",
            "Epoch 9: val_loss did not improve from 0.06144\n",
            "1875/1875 [==============================] - 9s 5ms/step - loss: 0.0610 - acc: 0.9858 - val_loss: 0.0867 - val_acc: 0.9793\n",
            "Epoch 10/50\n",
            "1869/1875 [============================>.] - ETA: 0s - loss: 0.0558 - acc: 0.9871\n",
            "Epoch 10: val_loss did not improve from 0.06144\n",
            "1875/1875 [==============================] - 10s 5ms/step - loss: 0.0558 - acc: 0.9871 - val_loss: 0.0687 - val_acc: 0.9840\n",
            "Epoch 11/50\n",
            "1872/1875 [============================>.] - ETA: 0s - loss: 0.0524 - acc: 0.9877\n",
            "Epoch 11: val_loss did not improve from 0.06144\n",
            "1875/1875 [==============================] - 10s 5ms/step - loss: 0.0523 - acc: 0.9878 - val_loss: 0.0626 - val_acc: 0.9842\n",
            "Epoch 12/50\n",
            "1865/1875 [============================>.] - ETA: 0s - loss: 0.0503 - acc: 0.9883\n",
            "Epoch 12: val_loss did not improve from 0.06144\n",
            "1875/1875 [==============================] - 10s 5ms/step - loss: 0.0502 - acc: 0.9883 - val_loss: 0.0620 - val_acc: 0.9857\n",
            "Epoch 13/50\n",
            "1871/1875 [============================>.] - ETA: 0s - loss: 0.0461 - acc: 0.9891\n",
            "Epoch 13: val_loss did not improve from 0.06144\n",
            "1875/1875 [==============================] - 9s 5ms/step - loss: 0.0461 - acc: 0.9891 - val_loss: 0.0724 - val_acc: 0.9833\n",
            "Epoch 14/50\n",
            "1872/1875 [============================>.] - ETA: 0s - loss: 0.0435 - acc: 0.9896\n",
            "Epoch 14: val_loss did not improve from 0.06144\n",
            "1875/1875 [==============================] - 9s 5ms/step - loss: 0.0435 - acc: 0.9896 - val_loss: 0.0850 - val_acc: 0.9831\n",
            "Epoch 15/50\n",
            "1875/1875 [==============================] - ETA: 0s - loss: 0.0435 - acc: 0.9899\n",
            "Epoch 15: val_loss improved from 0.06144 to 0.05861, saving model to checkpoint.ckpt\n",
            "1875/1875 [==============================] - 10s 5ms/step - loss: 0.0435 - acc: 0.9899 - val_loss: 0.0586 - val_acc: 0.9876\n",
            "Epoch 16/50\n",
            "1873/1875 [============================>.] - ETA: 0s - loss: 0.0393 - acc: 0.9909\n",
            "Epoch 16: val_loss did not improve from 0.05861\n",
            "1875/1875 [==============================] - 9s 5ms/step - loss: 0.0393 - acc: 0.9909 - val_loss: 0.0677 - val_acc: 0.9857\n",
            "Epoch 17/50\n",
            "1870/1875 [============================>.] - ETA: 0s - loss: 0.0374 - acc: 0.9912\n",
            "Epoch 17: val_loss did not improve from 0.05861\n",
            "1875/1875 [==============================] - 9s 5ms/step - loss: 0.0375 - acc: 0.9912 - val_loss: 0.0724 - val_acc: 0.9849\n",
            "Epoch 18/50\n",
            "1865/1875 [============================>.] - ETA: 0s - loss: 0.0373 - acc: 0.9912\n",
            "Epoch 18: val_loss did not improve from 0.05861\n",
            "1875/1875 [==============================] - 9s 5ms/step - loss: 0.0372 - acc: 0.9912 - val_loss: 0.0739 - val_acc: 0.9841\n",
            "Epoch 19/50\n",
            "1872/1875 [============================>.] - ETA: 0s - loss: 0.0350 - acc: 0.9918\n",
            "Epoch 19: val_loss did not improve from 0.05861\n",
            "1875/1875 [==============================] - 10s 5ms/step - loss: 0.0349 - acc: 0.9918 - val_loss: 0.0633 - val_acc: 0.9866\n",
            "Epoch 20/50\n",
            "1868/1875 [============================>.] - ETA: 0s - loss: 0.0337 - acc: 0.9921\n",
            "Epoch 20: val_loss did not improve from 0.05861\n",
            "1875/1875 [==============================] - 9s 5ms/step - loss: 0.0337 - acc: 0.9921 - val_loss: 0.0718 - val_acc: 0.9860\n",
            "Epoch 21/50\n",
            "1871/1875 [============================>.] - ETA: 0s - loss: 0.0305 - acc: 0.9931\n",
            "Epoch 21: val_loss did not improve from 0.05861\n",
            "1875/1875 [==============================] - 10s 5ms/step - loss: 0.0305 - acc: 0.9931 - val_loss: 0.0660 - val_acc: 0.9868\n",
            "Epoch 22/50\n",
            "1871/1875 [============================>.] - ETA: 0s - loss: 0.0311 - acc: 0.9932\n",
            "Epoch 22: val_loss did not improve from 0.05861\n",
            "1875/1875 [==============================] - 10s 5ms/step - loss: 0.0310 - acc: 0.9932 - val_loss: 0.0739 - val_acc: 0.9862\n",
            "Epoch 23/50\n",
            "1871/1875 [============================>.] - ETA: 0s - loss: 0.0308 - acc: 0.9931\n",
            "Epoch 23: val_loss did not improve from 0.05861\n",
            "1875/1875 [==============================] - 10s 5ms/step - loss: 0.0308 - acc: 0.9931 - val_loss: 0.0644 - val_acc: 0.9873\n",
            "Epoch 24/50\n",
            "1871/1875 [============================>.] - ETA: 0s - loss: 0.0282 - acc: 0.9936\n",
            "Epoch 24: val_loss did not improve from 0.05861\n",
            "1875/1875 [==============================] - 10s 5ms/step - loss: 0.0284 - acc: 0.9936 - val_loss: 0.0769 - val_acc: 0.9856\n",
            "Epoch 25/50\n",
            "1874/1875 [============================>.] - ETA: 0s - loss: 0.0278 - acc: 0.9935\n",
            "Epoch 25: val_loss did not improve from 0.05861\n",
            "1875/1875 [==============================] - 9s 5ms/step - loss: 0.0278 - acc: 0.9934 - val_loss: 0.0694 - val_acc: 0.9864\n",
            "Model: \"sequential_7\"\n",
            "_________________________________________________________________\n",
            " Layer (type)                Output Shape              Param #   \n",
            "=================================================================\n",
            " conv2d_2 (Conv2D)           (None, 26, 26, 64)        640       \n",
            "                                                                 \n",
            " max_pooling2d_2 (MaxPooling  (None, 13, 13, 64)       0         \n",
            " 2D)                                                             \n",
            "                                                                 \n",
            " conv2d_3 (Conv2D)           (None, 11, 11, 64)        36928     \n",
            "                                                                 \n",
            " max_pooling2d_3 (MaxPooling  (None, 5, 5, 64)         0         \n",
            " 2D)                                                             \n",
            "                                                                 \n",
            " conv2d_4 (Conv2D)           (None, 3, 3, 32)          18464     \n",
            "                                                                 \n",
            " max_pooling2d_4 (MaxPooling  (None, 1, 1, 32)         0         \n",
            " 2D)                                                             \n",
            "                                                                 \n",
            " flatten_7 (Flatten)         (None, 32)                0         \n",
            "                                                                 \n",
            " dense_31 (Dense)            (None, 128)               4224      \n",
            "                                                                 \n",
            " dropout_15 (Dropout)        (None, 128)               0         \n",
            "                                                                 \n",
            " dense_32 (Dense)            (None, 64)                8256      \n",
            "                                                                 \n",
            " dropout_16 (Dropout)        (None, 64)                0         \n",
            "                                                                 \n",
            " dense_33 (Dense)            (None, 32)                2080      \n",
            "                                                                 \n",
            " batch_normalization_11 (Bat  (None, 32)               128       \n",
            " chNormalization)                                                \n",
            "                                                                 \n",
            " dense_34 (Dense)            (None, 10)                330       \n",
            "                                                                 \n",
            "=================================================================\n",
            "Total params: 71,050\n",
            "Trainable params: 70,986\n",
            "Non-trainable params: 64\n",
            "_________________________________________________________________\n"
          ]
        }
      ]
    },
    {
      "cell_type": "markdown",
      "source": [
        "## ChatGPT"
      ],
      "metadata": {
        "id": "B_qOSOzrYOWP"
      }
    },
    {
      "cell_type": "markdown",
      "source": [
        "tensorflow 와 CNN 을 이용해서 MNIST 분류 코드를 작성해 줘"
      ],
      "metadata": {
        "id": "GEujwCOupllX"
      }
    },
    {
      "cell_type": "code",
      "source": [
        "import tensorflow as tf\n",
        "from tensorflow.keras.datasets import mnist\n",
        "from tensorflow.keras.models import Sequential\n",
        "from tensorflow.keras.layers import Conv2D, MaxPooling2D, Dropout, Flatten, Dense\n",
        "\n",
        "# 데이터 불러오기\n",
        "(x_train, y_train), (x_test, y_test) = mnist.load_data()\n",
        "\n",
        "# 입력 데이터의 형태 변환\n",
        "x_train = x_train.reshape((60000, 28, 28, 1))\n",
        "x_test = x_test.reshape((10000, 28, 28, 1))\n",
        "\n",
        "# 입력 데이터를 0~1 사이 값으로 정규화\n",
        "x_train, x_test = x_train / 255.0, x_test / 255.0\n",
        "\n",
        "# 모델 구성\n",
        "model = Sequential([\n",
        "    Conv2D(32, (3, 3), activation='relu', input_shape=(28, 28, 1)),\n",
        "    MaxPooling2D((2, 2)),\n",
        "    Conv2D(64, (3, 3), activation='relu'),\n",
        "    MaxPooling2D((2, 2)),\n",
        "    Conv2D(64, (3, 3), activation='relu'),\n",
        "    Flatten(),\n",
        "    Dense(64, activation='relu'),\n",
        "    Dropout(0.5),\n",
        "    Dense(10, activation='softmax')\n",
        "])\n",
        "\n",
        "# 모델 컴파일\n",
        "model.compile(optimizer='adam', loss='sparse_categorical_crossentropy', metrics=['accuracy'])\n",
        "\n",
        "# 모델 학습\n",
        "model.fit(x_train, y_train, epochs=50, batch_size=64, validation_data=(x_test, y_test))\n",
        "\n",
        "# 모델 평가\n",
        "test_loss, test_acc = model.evaluate(x_test, y_test, verbose=2)\n",
        "print(\"Test accuracy:\", test_acc)\n"
      ],
      "metadata": {
        "colab": {
          "base_uri": "https://localhost:8080/",
          "height": 1000
        },
        "id": "mMbl34FEpkQm",
        "outputId": "15b8fc0f-3498-4967-8653-929d0396dd13"
      },
      "execution_count": null,
      "outputs": [
        {
          "output_type": "stream",
          "name": "stdout",
          "text": [
            "Epoch 1/50\n",
            "938/938 [==============================] - 7s 5ms/step - loss: 0.3034 - accuracy: 0.9057 - val_loss: 0.0542 - val_accuracy: 0.9833\n",
            "Epoch 2/50\n",
            "938/938 [==============================] - 4s 5ms/step - loss: 0.0939 - accuracy: 0.9733 - val_loss: 0.0376 - val_accuracy: 0.9877\n",
            "Epoch 3/50\n",
            "938/938 [==============================] - 4s 4ms/step - loss: 0.0694 - accuracy: 0.9809 - val_loss: 0.0333 - val_accuracy: 0.9892\n",
            "Epoch 4/50\n",
            "938/938 [==============================] - 5s 5ms/step - loss: 0.0545 - accuracy: 0.9849 - val_loss: 0.0292 - val_accuracy: 0.9904\n",
            "Epoch 5/50\n",
            "938/938 [==============================] - 4s 5ms/step - loss: 0.0443 - accuracy: 0.9871 - val_loss: 0.0270 - val_accuracy: 0.9933\n",
            "Epoch 6/50\n",
            "938/938 [==============================] - 4s 4ms/step - loss: 0.0381 - accuracy: 0.9888 - val_loss: 0.0327 - val_accuracy: 0.9913\n",
            "Epoch 7/50\n",
            "938/938 [==============================] - 5s 6ms/step - loss: 0.0345 - accuracy: 0.9899 - val_loss: 0.0314 - val_accuracy: 0.9915\n",
            "Epoch 8/50\n",
            "938/938 [==============================] - 4s 4ms/step - loss: 0.0301 - accuracy: 0.9908 - val_loss: 0.0248 - val_accuracy: 0.9933\n",
            "Epoch 9/50\n",
            "938/938 [==============================] - 4s 5ms/step - loss: 0.0263 - accuracy: 0.9925 - val_loss: 0.0251 - val_accuracy: 0.9932\n",
            "Epoch 10/50\n",
            "938/938 [==============================] - 6s 6ms/step - loss: 0.0230 - accuracy: 0.9931 - val_loss: 0.0290 - val_accuracy: 0.9926\n",
            "Epoch 11/50\n",
            "938/938 [==============================] - 5s 5ms/step - loss: 0.0228 - accuracy: 0.9930 - val_loss: 0.0284 - val_accuracy: 0.9932\n",
            "Epoch 12/50\n",
            "938/938 [==============================] - 5s 5ms/step - loss: 0.0179 - accuracy: 0.9942 - val_loss: 0.0285 - val_accuracy: 0.9927\n",
            "Epoch 13/50\n",
            "938/938 [==============================] - 4s 4ms/step - loss: 0.0153 - accuracy: 0.9952 - val_loss: 0.0437 - val_accuracy: 0.9908\n",
            "Epoch 14/50\n",
            "938/938 [==============================] - 4s 4ms/step - loss: 0.0173 - accuracy: 0.9948 - val_loss: 0.0349 - val_accuracy: 0.9926\n",
            "Epoch 15/50\n",
            "938/938 [==============================] - 5s 5ms/step - loss: 0.0153 - accuracy: 0.9953 - val_loss: 0.0315 - val_accuracy: 0.9930\n",
            "Epoch 16/50\n",
            "938/938 [==============================] - 4s 5ms/step - loss: 0.0134 - accuracy: 0.9955 - val_loss: 0.0323 - val_accuracy: 0.9933\n",
            "Epoch 17/50\n",
            "938/938 [==============================] - 5s 5ms/step - loss: 0.0133 - accuracy: 0.9960 - val_loss: 0.0307 - val_accuracy: 0.9929\n",
            "Epoch 18/50\n",
            "938/938 [==============================] - 5s 5ms/step - loss: 0.0111 - accuracy: 0.9965 - val_loss: 0.0443 - val_accuracy: 0.9934\n",
            "Epoch 19/50\n",
            "938/938 [==============================] - 4s 4ms/step - loss: 0.0124 - accuracy: 0.9959 - val_loss: 0.0379 - val_accuracy: 0.9919\n",
            "Epoch 20/50\n",
            "938/938 [==============================] - 5s 5ms/step - loss: 0.0117 - accuracy: 0.9963 - val_loss: 0.0407 - val_accuracy: 0.9926\n",
            "Epoch 21/50\n",
            "938/938 [==============================] - 4s 4ms/step - loss: 0.0092 - accuracy: 0.9970 - val_loss: 0.0396 - val_accuracy: 0.9930\n",
            "Epoch 22/50\n",
            "938/938 [==============================] - 4s 5ms/step - loss: 0.0100 - accuracy: 0.9967 - val_loss: 0.0452 - val_accuracy: 0.9924\n",
            "Epoch 23/50\n",
            "938/938 [==============================] - 5s 5ms/step - loss: 0.0102 - accuracy: 0.9967 - val_loss: 0.0418 - val_accuracy: 0.9934\n",
            "Epoch 24/50\n",
            "938/938 [==============================] - 4s 4ms/step - loss: 0.0105 - accuracy: 0.9969 - val_loss: 0.0367 - val_accuracy: 0.9937\n",
            "Epoch 25/50\n",
            "938/938 [==============================] - 5s 5ms/step - loss: 0.0089 - accuracy: 0.9973 - val_loss: 0.0406 - val_accuracy: 0.9937\n",
            "Epoch 26/50\n",
            "938/938 [==============================] - 4s 4ms/step - loss: 0.0095 - accuracy: 0.9969 - val_loss: 0.0506 - val_accuracy: 0.9924\n",
            "Epoch 27/50\n",
            "938/938 [==============================] - 4s 5ms/step - loss: 0.0071 - accuracy: 0.9979 - val_loss: 0.0492 - val_accuracy: 0.9924\n",
            "Epoch 28/50\n",
            "938/938 [==============================] - 5s 5ms/step - loss: 0.0087 - accuracy: 0.9974 - val_loss: 0.0444 - val_accuracy: 0.9935\n",
            "Epoch 29/50\n",
            "938/938 [==============================] - 4s 4ms/step - loss: 0.0083 - accuracy: 0.9975 - val_loss: 0.0466 - val_accuracy: 0.9940\n",
            "Epoch 30/50\n",
            "938/938 [==============================] - 4s 4ms/step - loss: 0.0071 - accuracy: 0.9977 - val_loss: 0.0463 - val_accuracy: 0.9931\n",
            "Epoch 31/50\n",
            "938/938 [==============================] - 5s 5ms/step - loss: 0.0077 - accuracy: 0.9975 - val_loss: 0.0537 - val_accuracy: 0.9916\n",
            "Epoch 32/50\n",
            "938/938 [==============================] - 4s 5ms/step - loss: 0.0068 - accuracy: 0.9979 - val_loss: 0.0472 - val_accuracy: 0.9932\n",
            "Epoch 33/50\n",
            "938/938 [==============================] - 5s 5ms/step - loss: 0.0073 - accuracy: 0.9978 - val_loss: 0.0524 - val_accuracy: 0.9924\n",
            "Epoch 34/50\n",
            "938/938 [==============================] - 4s 5ms/step - loss: 0.0081 - accuracy: 0.9976 - val_loss: 0.0491 - val_accuracy: 0.9935\n",
            "Epoch 35/50\n",
            "938/938 [==============================] - 4s 4ms/step - loss: 0.0070 - accuracy: 0.9979 - val_loss: 0.0579 - val_accuracy: 0.9929\n",
            "Epoch 36/50\n",
            "938/938 [==============================] - 5s 5ms/step - loss: 0.0053 - accuracy: 0.9983 - val_loss: 0.0495 - val_accuracy: 0.9934\n",
            "Epoch 37/50\n",
            "938/938 [==============================] - 4s 4ms/step - loss: 0.0069 - accuracy: 0.9980 - val_loss: 0.0433 - val_accuracy: 0.9934\n",
            "Epoch 38/50\n",
            "315/938 [=========>....................] - ETA: 2s - loss: 0.0054 - accuracy: 0.9983"
          ]
        },
        {
          "output_type": "error",
          "ename": "KeyboardInterrupt",
          "evalue": "ignored",
          "traceback": [
            "\u001b[0;31m---------------------------------------------------------------------------\u001b[0m",
            "\u001b[0;31mKeyboardInterrupt\u001b[0m                         Traceback (most recent call last)",
            "\u001b[0;32m<ipython-input-42-cbc2a6eccc08>\u001b[0m in \u001b[0;36m<cell line: 33>\u001b[0;34m()\u001b[0m\n\u001b[1;32m     31\u001b[0m \u001b[0;34m\u001b[0m\u001b[0m\n\u001b[1;32m     32\u001b[0m \u001b[0;31m# 모델 학습\u001b[0m\u001b[0;34m\u001b[0m\u001b[0;34m\u001b[0m\u001b[0m\n\u001b[0;32m---> 33\u001b[0;31m \u001b[0mmodel\u001b[0m\u001b[0;34m.\u001b[0m\u001b[0mfit\u001b[0m\u001b[0;34m(\u001b[0m\u001b[0mx_train\u001b[0m\u001b[0;34m,\u001b[0m \u001b[0my_train\u001b[0m\u001b[0;34m,\u001b[0m \u001b[0mepochs\u001b[0m\u001b[0;34m=\u001b[0m\u001b[0;36m50\u001b[0m\u001b[0;34m,\u001b[0m \u001b[0mbatch_size\u001b[0m\u001b[0;34m=\u001b[0m\u001b[0;36m64\u001b[0m\u001b[0;34m,\u001b[0m \u001b[0mvalidation_data\u001b[0m\u001b[0;34m=\u001b[0m\u001b[0;34m(\u001b[0m\u001b[0mx_test\u001b[0m\u001b[0;34m,\u001b[0m \u001b[0my_test\u001b[0m\u001b[0;34m)\u001b[0m\u001b[0;34m)\u001b[0m\u001b[0;34m\u001b[0m\u001b[0;34m\u001b[0m\u001b[0m\n\u001b[0m\u001b[1;32m     34\u001b[0m \u001b[0;34m\u001b[0m\u001b[0m\n\u001b[1;32m     35\u001b[0m \u001b[0;31m# 모델 평가\u001b[0m\u001b[0;34m\u001b[0m\u001b[0;34m\u001b[0m\u001b[0m\n",
            "\u001b[0;32m/usr/local/lib/python3.9/dist-packages/keras/utils/traceback_utils.py\u001b[0m in \u001b[0;36merror_handler\u001b[0;34m(*args, **kwargs)\u001b[0m\n\u001b[1;32m     63\u001b[0m         \u001b[0mfiltered_tb\u001b[0m \u001b[0;34m=\u001b[0m \u001b[0;32mNone\u001b[0m\u001b[0;34m\u001b[0m\u001b[0;34m\u001b[0m\u001b[0m\n\u001b[1;32m     64\u001b[0m         \u001b[0;32mtry\u001b[0m\u001b[0;34m:\u001b[0m\u001b[0;34m\u001b[0m\u001b[0;34m\u001b[0m\u001b[0m\n\u001b[0;32m---> 65\u001b[0;31m             \u001b[0;32mreturn\u001b[0m \u001b[0mfn\u001b[0m\u001b[0;34m(\u001b[0m\u001b[0;34m*\u001b[0m\u001b[0margs\u001b[0m\u001b[0;34m,\u001b[0m \u001b[0;34m**\u001b[0m\u001b[0mkwargs\u001b[0m\u001b[0;34m)\u001b[0m\u001b[0;34m\u001b[0m\u001b[0;34m\u001b[0m\u001b[0m\n\u001b[0m\u001b[1;32m     66\u001b[0m         \u001b[0;32mexcept\u001b[0m \u001b[0mException\u001b[0m \u001b[0;32mas\u001b[0m \u001b[0me\u001b[0m\u001b[0;34m:\u001b[0m\u001b[0;34m\u001b[0m\u001b[0;34m\u001b[0m\u001b[0m\n\u001b[1;32m     67\u001b[0m             \u001b[0mfiltered_tb\u001b[0m \u001b[0;34m=\u001b[0m \u001b[0m_process_traceback_frames\u001b[0m\u001b[0;34m(\u001b[0m\u001b[0me\u001b[0m\u001b[0;34m.\u001b[0m\u001b[0m__traceback__\u001b[0m\u001b[0;34m)\u001b[0m\u001b[0;34m\u001b[0m\u001b[0;34m\u001b[0m\u001b[0m\n",
            "\u001b[0;32m/usr/local/lib/python3.9/dist-packages/keras/engine/training.py\u001b[0m in \u001b[0;36mfit\u001b[0;34m(self, x, y, batch_size, epochs, verbose, callbacks, validation_split, validation_data, shuffle, class_weight, sample_weight, initial_epoch, steps_per_epoch, validation_steps, validation_batch_size, validation_freq, max_queue_size, workers, use_multiprocessing)\u001b[0m\n\u001b[1;32m   1683\u001b[0m                         ):\n\u001b[1;32m   1684\u001b[0m                             \u001b[0mcallbacks\u001b[0m\u001b[0;34m.\u001b[0m\u001b[0mon_train_batch_begin\u001b[0m\u001b[0;34m(\u001b[0m\u001b[0mstep\u001b[0m\u001b[0;34m)\u001b[0m\u001b[0;34m\u001b[0m\u001b[0;34m\u001b[0m\u001b[0m\n\u001b[0;32m-> 1685\u001b[0;31m                             \u001b[0mtmp_logs\u001b[0m \u001b[0;34m=\u001b[0m \u001b[0mself\u001b[0m\u001b[0;34m.\u001b[0m\u001b[0mtrain_function\u001b[0m\u001b[0;34m(\u001b[0m\u001b[0miterator\u001b[0m\u001b[0;34m)\u001b[0m\u001b[0;34m\u001b[0m\u001b[0;34m\u001b[0m\u001b[0m\n\u001b[0m\u001b[1;32m   1686\u001b[0m                             \u001b[0;32mif\u001b[0m \u001b[0mdata_handler\u001b[0m\u001b[0;34m.\u001b[0m\u001b[0mshould_sync\u001b[0m\u001b[0;34m:\u001b[0m\u001b[0;34m\u001b[0m\u001b[0;34m\u001b[0m\u001b[0m\n\u001b[1;32m   1687\u001b[0m                                 \u001b[0mcontext\u001b[0m\u001b[0;34m.\u001b[0m\u001b[0masync_wait\u001b[0m\u001b[0;34m(\u001b[0m\u001b[0;34m)\u001b[0m\u001b[0;34m\u001b[0m\u001b[0;34m\u001b[0m\u001b[0m\n",
            "\u001b[0;32m/usr/local/lib/python3.9/dist-packages/tensorflow/python/util/traceback_utils.py\u001b[0m in \u001b[0;36merror_handler\u001b[0;34m(*args, **kwargs)\u001b[0m\n\u001b[1;32m    148\u001b[0m     \u001b[0mfiltered_tb\u001b[0m \u001b[0;34m=\u001b[0m \u001b[0;32mNone\u001b[0m\u001b[0;34m\u001b[0m\u001b[0;34m\u001b[0m\u001b[0m\n\u001b[1;32m    149\u001b[0m     \u001b[0;32mtry\u001b[0m\u001b[0;34m:\u001b[0m\u001b[0;34m\u001b[0m\u001b[0;34m\u001b[0m\u001b[0m\n\u001b[0;32m--> 150\u001b[0;31m       \u001b[0;32mreturn\u001b[0m \u001b[0mfn\u001b[0m\u001b[0;34m(\u001b[0m\u001b[0;34m*\u001b[0m\u001b[0margs\u001b[0m\u001b[0;34m,\u001b[0m \u001b[0;34m**\u001b[0m\u001b[0mkwargs\u001b[0m\u001b[0;34m)\u001b[0m\u001b[0;34m\u001b[0m\u001b[0;34m\u001b[0m\u001b[0m\n\u001b[0m\u001b[1;32m    151\u001b[0m     \u001b[0;32mexcept\u001b[0m \u001b[0mException\u001b[0m \u001b[0;32mas\u001b[0m \u001b[0me\u001b[0m\u001b[0;34m:\u001b[0m\u001b[0;34m\u001b[0m\u001b[0;34m\u001b[0m\u001b[0m\n\u001b[1;32m    152\u001b[0m       \u001b[0mfiltered_tb\u001b[0m \u001b[0;34m=\u001b[0m \u001b[0m_process_traceback_frames\u001b[0m\u001b[0;34m(\u001b[0m\u001b[0me\u001b[0m\u001b[0;34m.\u001b[0m\u001b[0m__traceback__\u001b[0m\u001b[0;34m)\u001b[0m\u001b[0;34m\u001b[0m\u001b[0;34m\u001b[0m\u001b[0m\n",
            "\u001b[0;32m/usr/local/lib/python3.9/dist-packages/tensorflow/python/eager/polymorphic_function/polymorphic_function.py\u001b[0m in \u001b[0;36m__call__\u001b[0;34m(self, *args, **kwds)\u001b[0m\n\u001b[1;32m    892\u001b[0m \u001b[0;34m\u001b[0m\u001b[0m\n\u001b[1;32m    893\u001b[0m       \u001b[0;32mwith\u001b[0m \u001b[0mOptionalXlaContext\u001b[0m\u001b[0;34m(\u001b[0m\u001b[0mself\u001b[0m\u001b[0;34m.\u001b[0m\u001b[0m_jit_compile\u001b[0m\u001b[0;34m)\u001b[0m\u001b[0;34m:\u001b[0m\u001b[0;34m\u001b[0m\u001b[0;34m\u001b[0m\u001b[0m\n\u001b[0;32m--> 894\u001b[0;31m         \u001b[0mresult\u001b[0m \u001b[0;34m=\u001b[0m \u001b[0mself\u001b[0m\u001b[0;34m.\u001b[0m\u001b[0m_call\u001b[0m\u001b[0;34m(\u001b[0m\u001b[0;34m*\u001b[0m\u001b[0margs\u001b[0m\u001b[0;34m,\u001b[0m \u001b[0;34m**\u001b[0m\u001b[0mkwds\u001b[0m\u001b[0;34m)\u001b[0m\u001b[0;34m\u001b[0m\u001b[0;34m\u001b[0m\u001b[0m\n\u001b[0m\u001b[1;32m    895\u001b[0m \u001b[0;34m\u001b[0m\u001b[0m\n\u001b[1;32m    896\u001b[0m       \u001b[0mnew_tracing_count\u001b[0m \u001b[0;34m=\u001b[0m \u001b[0mself\u001b[0m\u001b[0;34m.\u001b[0m\u001b[0mexperimental_get_tracing_count\u001b[0m\u001b[0;34m(\u001b[0m\u001b[0;34m)\u001b[0m\u001b[0;34m\u001b[0m\u001b[0;34m\u001b[0m\u001b[0m\n",
            "\u001b[0;32m/usr/local/lib/python3.9/dist-packages/tensorflow/python/eager/polymorphic_function/polymorphic_function.py\u001b[0m in \u001b[0;36m_call\u001b[0;34m(self, *args, **kwds)\u001b[0m\n\u001b[1;32m    924\u001b[0m       \u001b[0;31m# In this case we have created variables on the first call, so we run the\u001b[0m\u001b[0;34m\u001b[0m\u001b[0;34m\u001b[0m\u001b[0m\n\u001b[1;32m    925\u001b[0m       \u001b[0;31m# defunned version which is guaranteed to never create variables.\u001b[0m\u001b[0;34m\u001b[0m\u001b[0;34m\u001b[0m\u001b[0m\n\u001b[0;32m--> 926\u001b[0;31m       \u001b[0;32mreturn\u001b[0m \u001b[0mself\u001b[0m\u001b[0;34m.\u001b[0m\u001b[0m_no_variable_creation_fn\u001b[0m\u001b[0;34m(\u001b[0m\u001b[0;34m*\u001b[0m\u001b[0margs\u001b[0m\u001b[0;34m,\u001b[0m \u001b[0;34m**\u001b[0m\u001b[0mkwds\u001b[0m\u001b[0;34m)\u001b[0m  \u001b[0;31m# pylint: disable=not-callable\u001b[0m\u001b[0;34m\u001b[0m\u001b[0;34m\u001b[0m\u001b[0m\n\u001b[0m\u001b[1;32m    927\u001b[0m     \u001b[0;32melif\u001b[0m \u001b[0mself\u001b[0m\u001b[0;34m.\u001b[0m\u001b[0m_variable_creation_fn\u001b[0m \u001b[0;32mis\u001b[0m \u001b[0;32mnot\u001b[0m \u001b[0;32mNone\u001b[0m\u001b[0;34m:\u001b[0m\u001b[0;34m\u001b[0m\u001b[0;34m\u001b[0m\u001b[0m\n\u001b[1;32m    928\u001b[0m       \u001b[0;31m# Release the lock early so that multiple threads can perform the call\u001b[0m\u001b[0;34m\u001b[0m\u001b[0;34m\u001b[0m\u001b[0m\n",
            "\u001b[0;32m/usr/local/lib/python3.9/dist-packages/tensorflow/python/eager/polymorphic_function/tracing_compiler.py\u001b[0m in \u001b[0;36m__call__\u001b[0;34m(self, *args, **kwargs)\u001b[0m\n\u001b[1;32m    141\u001b[0m       (concrete_function,\n\u001b[1;32m    142\u001b[0m        filtered_flat_args) = self._maybe_define_function(args, kwargs)\n\u001b[0;32m--> 143\u001b[0;31m     return concrete_function._call_flat(\n\u001b[0m\u001b[1;32m    144\u001b[0m         filtered_flat_args, captured_inputs=concrete_function.captured_inputs)  # pylint: disable=protected-access\n\u001b[1;32m    145\u001b[0m \u001b[0;34m\u001b[0m\u001b[0m\n",
            "\u001b[0;32m/usr/local/lib/python3.9/dist-packages/tensorflow/python/eager/polymorphic_function/monomorphic_function.py\u001b[0m in \u001b[0;36m_call_flat\u001b[0;34m(self, args, captured_inputs, cancellation_manager)\u001b[0m\n\u001b[1;32m   1755\u001b[0m         and executing_eagerly):\n\u001b[1;32m   1756\u001b[0m       \u001b[0;31m# No tape is watching; skip to running the function.\u001b[0m\u001b[0;34m\u001b[0m\u001b[0;34m\u001b[0m\u001b[0m\n\u001b[0;32m-> 1757\u001b[0;31m       return self._build_call_outputs(self._inference_function.call(\n\u001b[0m\u001b[1;32m   1758\u001b[0m           ctx, args, cancellation_manager=cancellation_manager))\n\u001b[1;32m   1759\u001b[0m     forward_backward = self._select_forward_and_backward_functions(\n",
            "\u001b[0;32m/usr/local/lib/python3.9/dist-packages/tensorflow/python/eager/polymorphic_function/monomorphic_function.py\u001b[0m in \u001b[0;36mcall\u001b[0;34m(self, ctx, args, cancellation_manager)\u001b[0m\n\u001b[1;32m    379\u001b[0m       \u001b[0;32mwith\u001b[0m \u001b[0m_InterpolateFunctionError\u001b[0m\u001b[0;34m(\u001b[0m\u001b[0mself\u001b[0m\u001b[0;34m)\u001b[0m\u001b[0;34m:\u001b[0m\u001b[0;34m\u001b[0m\u001b[0;34m\u001b[0m\u001b[0m\n\u001b[1;32m    380\u001b[0m         \u001b[0;32mif\u001b[0m \u001b[0mcancellation_manager\u001b[0m \u001b[0;32mis\u001b[0m \u001b[0;32mNone\u001b[0m\u001b[0;34m:\u001b[0m\u001b[0;34m\u001b[0m\u001b[0;34m\u001b[0m\u001b[0m\n\u001b[0;32m--> 381\u001b[0;31m           outputs = execute.execute(\n\u001b[0m\u001b[1;32m    382\u001b[0m               \u001b[0mstr\u001b[0m\u001b[0;34m(\u001b[0m\u001b[0mself\u001b[0m\u001b[0;34m.\u001b[0m\u001b[0msignature\u001b[0m\u001b[0;34m.\u001b[0m\u001b[0mname\u001b[0m\u001b[0;34m)\u001b[0m\u001b[0;34m,\u001b[0m\u001b[0;34m\u001b[0m\u001b[0;34m\u001b[0m\u001b[0m\n\u001b[1;32m    383\u001b[0m               \u001b[0mnum_outputs\u001b[0m\u001b[0;34m=\u001b[0m\u001b[0mself\u001b[0m\u001b[0;34m.\u001b[0m\u001b[0m_num_outputs\u001b[0m\u001b[0;34m,\u001b[0m\u001b[0;34m\u001b[0m\u001b[0;34m\u001b[0m\u001b[0m\n",
            "\u001b[0;32m/usr/local/lib/python3.9/dist-packages/tensorflow/python/eager/execute.py\u001b[0m in \u001b[0;36mquick_execute\u001b[0;34m(op_name, num_outputs, inputs, attrs, ctx, name)\u001b[0m\n\u001b[1;32m     50\u001b[0m   \u001b[0;32mtry\u001b[0m\u001b[0;34m:\u001b[0m\u001b[0;34m\u001b[0m\u001b[0;34m\u001b[0m\u001b[0m\n\u001b[1;32m     51\u001b[0m     \u001b[0mctx\u001b[0m\u001b[0;34m.\u001b[0m\u001b[0mensure_initialized\u001b[0m\u001b[0;34m(\u001b[0m\u001b[0;34m)\u001b[0m\u001b[0;34m\u001b[0m\u001b[0;34m\u001b[0m\u001b[0m\n\u001b[0;32m---> 52\u001b[0;31m     tensors = pywrap_tfe.TFE_Py_Execute(ctx._handle, device_name, op_name,\n\u001b[0m\u001b[1;32m     53\u001b[0m                                         inputs, attrs, num_outputs)\n\u001b[1;32m     54\u001b[0m   \u001b[0;32mexcept\u001b[0m \u001b[0mcore\u001b[0m\u001b[0;34m.\u001b[0m\u001b[0m_NotOkStatusException\u001b[0m \u001b[0;32mas\u001b[0m \u001b[0me\u001b[0m\u001b[0;34m:\u001b[0m\u001b[0;34m\u001b[0m\u001b[0;34m\u001b[0m\u001b[0m\n",
            "\u001b[0;31mKeyboardInterrupt\u001b[0m: "
          ]
        }
      ]
    },
    {
      "cell_type": "markdown",
      "source": [
        "이 코드의 성능을 더 개선해 줄래?"
      ],
      "metadata": {
        "id": "sMifopy-qaV3"
      }
    },
    {
      "cell_type": "markdown",
      "source": [
        "물론입니다! CNN 모델의 성능을 더욱 개선하기 위해 다음과 같은 방법을 시도해 볼 수 있습니다.\n",
        "\n",
        "레이어 개수를 늘리거나 레이어의 크기를 늘리기\n",
        "- 레이어의 개수와 크기를 늘리면 모델의 복잡도가 증가하여 더 다양한 패턴을 학습할 수 있습니다.\n",
        "\n",
        "Dropout 비율 조절\n",
        "- Dropout 비율을 늘리면 과적합을 방지할 수 있습니다. 하지만 Dropout 비율이 너무 높으면 모델이 제대로 학습되지 않을 수 있습니다. 적절한 비율을 찾아야 합니다.\n",
        "\n",
        "Batch normalization 적용\n",
        "- Batch normalization을 사용하면 각 레이어의 입력 데이터를 평균과 분산으로 정규화하여 학습이 잘 되도록 도와줍니다.\n",
        "\n",
        "Learning rate 조절\n",
        "- Learning rate는 optimizer가 모델을 학습할 때 사용하는 step size입니다. Learning rate를 적절하게 조절하여 학습이 잘 되도록 해야합니다.\n",
        "\n",
        "다른 optimizer 사용\n",
        "- Adam optimizer 외에도 다른 optimizer를 사용하여 모델의 성능을 개선할 수 있습니다.\n",
        "\n",
        "\n",
        "다음은 위 방법 중 일부를 적용한 CNN 모델의 예시 코드입니다."
      ],
      "metadata": {
        "id": "LuhKJEBSqcli"
      }
    },
    {
      "cell_type": "markdown",
      "source": [
        "\bChatGPT 코드에 early stop, best checkpoint 추가"
      ],
      "metadata": {
        "id": "Y8go468Mrcd-"
      }
    },
    {
      "cell_type": "code",
      "source": [
        "import tensorflow as tf\n",
        "from tensorflow.keras.datasets import mnist\n",
        "from tensorflow.keras.models import Sequential\n",
        "from tensorflow.keras.layers import Conv2D, MaxPooling2D, Dropout, Flatten, Dense, BatchNormalization\n",
        "\n",
        "# 데이터 불러오기\n",
        "(x_train, y_train), (x_test, y_test) = mnist.load_data()\n",
        "\n",
        "# 입력 데이터의 형태 변환\n",
        "x_train = x_train.reshape((60000, 28, 28, 1))\n",
        "x_test = x_test.reshape((10000, 28, 28, 1))\n",
        "\n",
        "# 입력 데이터를 0~1 사이 값으로 정규화\n",
        "x_train, x_test = x_train / 255.0, x_test / 255.0\n",
        "\n",
        "# callback 추가\n",
        "checkpoint_path = \"my_checkpoint.ckpt\"\n",
        "checkpoint = ModelCheckpoint(filepath=checkpoint_path, \n",
        "                             save_weights_only=True, \n",
        "                             save_best_only=True, \n",
        "                             monitor='val_loss', \n",
        "                             verbose=1)\n",
        "\n",
        "early_stopping = EarlyStopping(monitor='val_loss', patience=10)\n",
        "\n",
        "# 모델 구성\n",
        "model = Sequential([\n",
        "    Conv2D(32, (3, 3), activation='relu', input_shape=(28, 28, 1)),\n",
        "    Conv2D(32, (3, 3), activation='relu'),\n",
        "    BatchNormalization(),\n",
        "    MaxPooling2D((2, 2)),\n",
        "    Dropout(0.25),\n",
        "    Conv2D(64, (3, 3), activation='relu'),\n",
        "    Conv2D(64, (3, 3), activation='relu'),\n",
        "    BatchNormalization(),\n",
        "    MaxPooling2D((2, 2)),\n",
        "    Dropout(0.25),\n",
        "    Conv2D(128, (3, 3), activation='relu'),\n",
        "    Flatten(),\n",
        "    Dense(128, activation='relu'),\n",
        "    BatchNormalization(),\n",
        "    Dropout(0.5),\n",
        "    Dense(10, activation='softmax')\n",
        "])\n",
        "\n",
        "# 모델 컴파일\n",
        "optimizer = tf.keras.optimizers.Adam(learning_rate=0.001)\n",
        "model.compile(optimizer=optimizer, loss='sparse_categorical_crossentropy', metrics=['accuracy'])\n",
        "\n",
        "# 모델 학습\n",
        "model.fit(x_train, y_train, epochs=50, batch_size=64, validation_data=(x_test, y_test), callbacks=[checkpoint, early_stopping])\n",
        "\n",
        "# checkpoint 를 저장한 파일명을 입력합니다.\n",
        "model.load_weights(checkpoint_path)\n",
        "# 모델의 구조와 파라미터를 출력합니다.\n",
        "model.summary()\n",
        "model.evaluate(x_test, y_test)"
      ],
      "metadata": {
        "colab": {
          "base_uri": "https://localhost:8080/"
        },
        "id": "Qm3AaXlYrYfc",
        "outputId": "68a11b38-6f63-4efa-9dd2-4a8294149727"
      },
      "execution_count": null,
      "outputs": [
        {
          "output_type": "stream",
          "name": "stdout",
          "text": [
            "Epoch 1/50\n",
            "932/938 [============================>.] - ETA: 0s - loss: 0.1988 - accuracy: 0.9392\n",
            "Epoch 1: val_loss improved from inf to 0.04749, saving model to my_checkpoint.ckpt\n",
            "938/938 [==============================] - 12s 8ms/step - loss: 0.1984 - accuracy: 0.9394 - val_loss: 0.0475 - val_accuracy: 0.9847\n",
            "Epoch 2/50\n",
            "932/938 [============================>.] - ETA: 0s - loss: 0.0634 - accuracy: 0.9813\n",
            "Epoch 2: val_loss improved from 0.04749 to 0.02963, saving model to my_checkpoint.ckpt\n",
            "938/938 [==============================] - 8s 8ms/step - loss: 0.0634 - accuracy: 0.9813 - val_loss: 0.0296 - val_accuracy: 0.9908\n",
            "Epoch 3/50\n",
            "937/938 [============================>.] - ETA: 0s - loss: 0.0467 - accuracy: 0.9863\n",
            "Epoch 3: val_loss improved from 0.02963 to 0.02936, saving model to my_checkpoint.ckpt\n",
            "938/938 [==============================] - 8s 9ms/step - loss: 0.0467 - accuracy: 0.9863 - val_loss: 0.0294 - val_accuracy: 0.9905\n",
            "Epoch 4/50\n",
            "934/938 [============================>.] - ETA: 0s - loss: 0.0403 - accuracy: 0.9878\n",
            "Epoch 4: val_loss did not improve from 0.02936\n",
            "938/938 [==============================] - 7s 7ms/step - loss: 0.0402 - accuracy: 0.9878 - val_loss: 0.0297 - val_accuracy: 0.9917\n",
            "Epoch 5/50\n",
            "936/938 [============================>.] - ETA: 0s - loss: 0.0357 - accuracy: 0.9887\n",
            "Epoch 5: val_loss improved from 0.02936 to 0.02276, saving model to my_checkpoint.ckpt\n",
            "938/938 [==============================] - 7s 8ms/step - loss: 0.0358 - accuracy: 0.9887 - val_loss: 0.0228 - val_accuracy: 0.9928\n",
            "Epoch 6/50\n",
            "935/938 [============================>.] - ETA: 0s - loss: 0.0329 - accuracy: 0.9898\n",
            "Epoch 6: val_loss did not improve from 0.02276\n",
            "938/938 [==============================] - 7s 7ms/step - loss: 0.0328 - accuracy: 0.9898 - val_loss: 0.0249 - val_accuracy: 0.9926\n",
            "Epoch 7/50\n",
            "933/938 [============================>.] - ETA: 0s - loss: 0.0269 - accuracy: 0.9920\n",
            "Epoch 7: val_loss did not improve from 0.02276\n",
            "938/938 [==============================] - 7s 8ms/step - loss: 0.0268 - accuracy: 0.9920 - val_loss: 0.0354 - val_accuracy: 0.9895\n",
            "Epoch 8/50\n",
            "938/938 [==============================] - ETA: 0s - loss: 0.0264 - accuracy: 0.9916\n",
            "Epoch 8: val_loss improved from 0.02276 to 0.02056, saving model to my_checkpoint.ckpt\n",
            "938/938 [==============================] - 7s 8ms/step - loss: 0.0264 - accuracy: 0.9916 - val_loss: 0.0206 - val_accuracy: 0.9933\n",
            "Epoch 9/50\n",
            "934/938 [============================>.] - ETA: 0s - loss: 0.0245 - accuracy: 0.9927\n",
            "Epoch 9: val_loss improved from 0.02056 to 0.02008, saving model to my_checkpoint.ckpt\n",
            "938/938 [==============================] - 7s 7ms/step - loss: 0.0244 - accuracy: 0.9927 - val_loss: 0.0201 - val_accuracy: 0.9939\n",
            "Epoch 10/50\n",
            "934/938 [============================>.] - ETA: 0s - loss: 0.0208 - accuracy: 0.9941\n",
            "Epoch 10: val_loss improved from 0.02008 to 0.01903, saving model to my_checkpoint.ckpt\n",
            "938/938 [==============================] - 8s 8ms/step - loss: 0.0208 - accuracy: 0.9941 - val_loss: 0.0190 - val_accuracy: 0.9942\n",
            "Epoch 11/50\n",
            "938/938 [==============================] - ETA: 0s - loss: 0.0210 - accuracy: 0.9936\n",
            "Epoch 11: val_loss improved from 0.01903 to 0.01636, saving model to my_checkpoint.ckpt\n",
            "938/938 [==============================] - 7s 7ms/step - loss: 0.0210 - accuracy: 0.9936 - val_loss: 0.0164 - val_accuracy: 0.9958\n",
            "Epoch 12/50\n",
            "932/938 [============================>.] - ETA: 0s - loss: 0.0167 - accuracy: 0.9948\n",
            "Epoch 12: val_loss did not improve from 0.01636\n",
            "938/938 [==============================] - 8s 8ms/step - loss: 0.0167 - accuracy: 0.9948 - val_loss: 0.0184 - val_accuracy: 0.9949\n",
            "Epoch 13/50\n",
            "938/938 [==============================] - ETA: 0s - loss: 0.0167 - accuracy: 0.9948\n",
            "Epoch 13: val_loss did not improve from 0.01636\n",
            "938/938 [==============================] - 7s 8ms/step - loss: 0.0167 - accuracy: 0.9948 - val_loss: 0.0167 - val_accuracy: 0.9956\n",
            "Epoch 14/50\n",
            "936/938 [============================>.] - ETA: 0s - loss: 0.0170 - accuracy: 0.9948\n",
            "Epoch 14: val_loss did not improve from 0.01636\n",
            "938/938 [==============================] - 7s 8ms/step - loss: 0.0169 - accuracy: 0.9948 - val_loss: 0.0170 - val_accuracy: 0.9947\n",
            "Epoch 15/50\n",
            "931/938 [============================>.] - ETA: 0s - loss: 0.0145 - accuracy: 0.9954\n",
            "Epoch 15: val_loss did not improve from 0.01636\n",
            "938/938 [==============================] - 7s 8ms/step - loss: 0.0145 - accuracy: 0.9954 - val_loss: 0.0193 - val_accuracy: 0.9946\n",
            "Epoch 16/50\n",
            "937/938 [============================>.] - ETA: 0s - loss: 0.0131 - accuracy: 0.9963\n",
            "Epoch 16: val_loss did not improve from 0.01636\n",
            "938/938 [==============================] - 7s 7ms/step - loss: 0.0131 - accuracy: 0.9963 - val_loss: 0.0236 - val_accuracy: 0.9938\n",
            "Epoch 17/50\n",
            "933/938 [============================>.] - ETA: 0s - loss: 0.0135 - accuracy: 0.9957\n",
            "Epoch 17: val_loss did not improve from 0.01636\n",
            "938/938 [==============================] - 7s 8ms/step - loss: 0.0134 - accuracy: 0.9958 - val_loss: 0.0188 - val_accuracy: 0.9945\n",
            "Epoch 18/50\n",
            "934/938 [============================>.] - ETA: 0s - loss: 0.0122 - accuracy: 0.9961\n",
            "Epoch 18: val_loss did not improve from 0.01636\n",
            "938/938 [==============================] - 7s 7ms/step - loss: 0.0122 - accuracy: 0.9961 - val_loss: 0.0221 - val_accuracy: 0.9949\n",
            "Epoch 19/50\n",
            "934/938 [============================>.] - ETA: 0s - loss: 0.0113 - accuracy: 0.9967\n",
            "Epoch 19: val_loss did not improve from 0.01636\n",
            "938/938 [==============================] - 7s 8ms/step - loss: 0.0114 - accuracy: 0.9966 - val_loss: 0.0198 - val_accuracy: 0.9947\n",
            "Epoch 20/50\n",
            "932/938 [============================>.] - ETA: 0s - loss: 0.0111 - accuracy: 0.9966\n",
            "Epoch 20: val_loss did not improve from 0.01636\n",
            "938/938 [==============================] - 7s 8ms/step - loss: 0.0112 - accuracy: 0.9966 - val_loss: 0.0222 - val_accuracy: 0.9941\n",
            "Epoch 21/50\n",
            "933/938 [============================>.] - ETA: 0s - loss: 0.0108 - accuracy: 0.9970\n",
            "Epoch 21: val_loss did not improve from 0.01636\n",
            "938/938 [==============================] - 7s 7ms/step - loss: 0.0108 - accuracy: 0.9969 - val_loss: 0.0194 - val_accuracy: 0.9951\n",
            "Model: \"sequential_17\"\n",
            "_________________________________________________________________\n",
            " Layer (type)                Output Shape              Param #   \n",
            "=================================================================\n",
            " conv2d_46 (Conv2D)          (None, 26, 26, 32)        320       \n",
            "                                                                 \n",
            " conv2d_47 (Conv2D)          (None, 24, 24, 32)        9248      \n",
            "                                                                 \n",
            " batch_normalization_33 (Bat  (None, 24, 24, 32)       128       \n",
            " chNormalization)                                                \n",
            "                                                                 \n",
            " max_pooling2d_23 (MaxPoolin  (None, 12, 12, 32)       0         \n",
            " g2D)                                                            \n",
            "                                                                 \n",
            " dropout_40 (Dropout)        (None, 12, 12, 32)        0         \n",
            "                                                                 \n",
            " conv2d_48 (Conv2D)          (None, 10, 10, 64)        18496     \n",
            "                                                                 \n",
            " conv2d_49 (Conv2D)          (None, 8, 8, 64)          36928     \n",
            "                                                                 \n",
            " batch_normalization_34 (Bat  (None, 8, 8, 64)         256       \n",
            " chNormalization)                                                \n",
            "                                                                 \n",
            " max_pooling2d_24 (MaxPoolin  (None, 4, 4, 64)         0         \n",
            " g2D)                                                            \n",
            "                                                                 \n",
            " dropout_41 (Dropout)        (None, 4, 4, 64)          0         \n",
            "                                                                 \n",
            " conv2d_50 (Conv2D)          (None, 2, 2, 128)         73856     \n",
            "                                                                 \n",
            " flatten_17 (Flatten)        (None, 512)               0         \n",
            "                                                                 \n",
            " dense_53 (Dense)            (None, 128)               65664     \n",
            "                                                                 \n",
            " batch_normalization_35 (Bat  (None, 128)              512       \n",
            " chNormalization)                                                \n",
            "                                                                 \n",
            " dropout_42 (Dropout)        (None, 128)               0         \n",
            "                                                                 \n",
            " dense_54 (Dense)            (None, 10)                1290      \n",
            "                                                                 \n",
            "=================================================================\n",
            "Total params: 206,698\n",
            "Trainable params: 206,250\n",
            "Non-trainable params: 448\n",
            "_________________________________________________________________\n",
            "313/313 [==============================] - 1s 3ms/step - loss: 0.0164 - accuracy: 0.9958\n"
          ]
        },
        {
          "output_type": "execute_result",
          "data": {
            "text/plain": [
              "[0.016355076804757118, 0.9958000183105469]"
            ]
          },
          "metadata": {},
          "execution_count": 50
        }
      ]
    },
    {
      "cell_type": "code",
      "source": [],
      "metadata": {
        "id": "Pg_tl13nr1Ap"
      },
      "execution_count": null,
      "outputs": []
    }
  ]
}